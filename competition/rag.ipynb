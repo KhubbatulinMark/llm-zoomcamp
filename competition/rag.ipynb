{
 "cells": [
  {
   "cell_type": "code",
   "execution_count": 1,
   "id": "3cf933ca-8b82-4778-9f43-90d6ba6a36cb",
   "metadata": {},
   "outputs": [],
   "source": [
    "import os \n",
    "import re\n",
    "\n",
    "import pandas as pd\n",
    "from tqdm import tqdm\n",
    "from IPython.display import Latex"
   ]
  },
  {
   "cell_type": "code",
   "execution_count": 2,
   "id": "d8d2e2d2-4ae4-4f54-874e-67f3bd611b51",
   "metadata": {},
   "outputs": [],
   "source": [
    "import minsearch"
   ]
  },
  {
   "cell_type": "code",
   "execution_count": 3,
   "id": "372c90a3-2726-4d6b-b3aa-0082645da1bf",
   "metadata": {},
   "outputs": [],
   "source": [
    "DATAPATH = \"data\""
   ]
  },
  {
   "cell_type": "markdown",
   "id": "edb832d1-eb79-4781-9283-5be1b60d1639",
   "metadata": {},
   "source": [
    "# Data"
   ]
  },
  {
   "cell_type": "code",
   "execution_count": 4,
   "id": "c11a3425-c812-492e-b2f2-a2b6ead2394d",
   "metadata": {},
   "outputs": [],
   "source": [
    "train = pd.read_csv(os.path.join(DATAPATH, \"raw/train.csv\"), index_col=\"problem_id\")\n",
    "test = pd.read_csv(os.path.join(DATAPATH, \"raw/test.csv\"), index_col=\"problem_id\")\n",
    "submission = pd.read_csv(os.path.join(DATAPATH, \"raw/sample_submission.csv\"))"
   ]
  },
  {
   "cell_type": "code",
   "execution_count": 5,
   "id": "f12069be-0a63-43e5-be18-37b50fe5dc0a",
   "metadata": {},
   "outputs": [
    {
     "data": {
      "text/plain": [
       "{'problem_text': 'Find the value of the expression $\\\\dfrac{17}{5} :\\\\dfrac{34}{3} +1.3$.',\n",
       " 'answer': '1.6'}"
      ]
     },
     "execution_count": 5,
     "metadata": {},
     "output_type": "execute_result"
    }
   ],
   "source": [
    "train.to_dict(\"records\")[0]"
   ]
  },
  {
   "cell_type": "markdown",
   "id": "dd822378-96af-447e-b692-e69ec2e421c7",
   "metadata": {},
   "source": [
    "# Index"
   ]
  },
  {
   "cell_type": "code",
   "execution_count": 6,
   "id": "b3cbf95a-ee48-46a0-a154-a9be704c7bc6",
   "metadata": {},
   "outputs": [],
   "source": [
    "index = minsearch.Index(\n",
    "    text_fields=[\"problem_text\", \"answer\"],\n",
    "    keyword_fields=[\"\"]\n",
    ")"
   ]
  },
  {
   "cell_type": "code",
   "execution_count": 7,
   "id": "f1a443b2-60fc-4e9e-9a21-9a3ff124e002",
   "metadata": {},
   "outputs": [],
   "source": [
    "index.fit(train.to_dict(\"records\"));"
   ]
  },
  {
   "cell_type": "markdown",
   "id": "c999bfdf-519c-4b32-86e5-453e778c4751",
   "metadata": {},
   "source": [
    "# Query"
   ]
  },
  {
   "cell_type": "code",
   "execution_count": 8,
   "id": "9d59b5ee-ee3d-4288-9420-34e6a78c7d5a",
   "metadata": {},
   "outputs": [],
   "source": [
    "query = test.iloc[0][\"problem_text\"]"
   ]
  },
  {
   "cell_type": "code",
   "execution_count": 9,
   "id": "5f9bf940-12f7-4b17-9ec2-86ace72e1303",
   "metadata": {},
   "outputs": [
    {
     "data": {
      "text/latex": [
       "Find the value of the expression \\(4.8 \\cdot 2.5\\)."
      ],
      "text/plain": [
       "<IPython.core.display.Latex object>"
      ]
     },
     "execution_count": 9,
     "metadata": {},
     "output_type": "execute_result"
    }
   ],
   "source": [
    "Latex(query)"
   ]
  },
  {
   "cell_type": "code",
   "execution_count": 10,
   "id": "66201d80-0d54-457a-a3af-f3557ddc1513",
   "metadata": {},
   "outputs": [],
   "source": [
    "boost = {'problem_text': 1.0}\n",
    "\n",
    "results = index.search(\n",
    "    query=query,\n",
    "    boost_dict=boost,\n",
    "    num_results=5\n",
    ")"
   ]
  },
  {
   "cell_type": "code",
   "execution_count": 11,
   "id": "731b2fda-a37f-4ae0-b024-9e4bf3891d79",
   "metadata": {},
   "outputs": [
    {
     "name": "stdout",
     "output_type": "stream",
     "text": [
      "Problem #0:\n"
     ]
    },
    {
     "data": {
      "text/latex": [
       "Find the value of the expression \\(9\\cdot 10^{2} +3\\cdot 10 +7\\cdot 10^{3}\\)."
      ],
      "text/plain": [
       "<IPython.core.display.Latex object>"
      ]
     },
     "metadata": {},
     "output_type": "display_data"
    },
    {
     "name": "stdout",
     "output_type": "stream",
     "text": [
      "\n",
      "\n",
      "Problem #1:\n"
     ]
    },
    {
     "data": {
      "text/latex": [
       "Find the value of the expression $\\sqrt{24} \\cdot \\sqrt{6}$."
      ],
      "text/plain": [
       "<IPython.core.display.Latex object>"
      ]
     },
     "metadata": {},
     "output_type": "display_data"
    },
    {
     "name": "stdout",
     "output_type": "stream",
     "text": [
      "\n",
      "\n",
      "Problem #2:\n"
     ]
    },
    {
     "data": {
      "text/latex": [
       "Find the value of the expression \\(\\dfrac{\\sqrt{5} \\cdot \\sqrt{6}}{\\sqrt{2 \\cdot 15}}\\)."
      ],
      "text/plain": [
       "<IPython.core.display.Latex object>"
      ]
     },
     "metadata": {},
     "output_type": "display_data"
    },
    {
     "name": "stdout",
     "output_type": "stream",
     "text": [
      "\n",
      "\n",
      "Problem #3:\n"
     ]
    },
    {
     "data": {
      "text/latex": [
       "Find the value of the expression $\\sqrt{63} \\cdot \\sqrt{7}$."
      ],
      "text/plain": [
       "<IPython.core.display.Latex object>"
      ]
     },
     "metadata": {},
     "output_type": "display_data"
    },
    {
     "name": "stdout",
     "output_type": "stream",
     "text": [
      "\n",
      "\n",
      "Problem #4:\n"
     ]
    },
    {
     "data": {
      "text/latex": [
       "Find the value of the expression \\(2\\dfrac{5}{14} + 5 + \\dfrac{8}{7}\\)."
      ],
      "text/plain": [
       "<IPython.core.display.Latex object>"
      ]
     },
     "metadata": {},
     "output_type": "display_data"
    },
    {
     "name": "stdout",
     "output_type": "stream",
     "text": [
      "\n",
      "\n"
     ]
    }
   ],
   "source": [
    "for top_index, text in enumerate(results):\n",
    "    print(f\"Problem #{top_index}:\")\n",
    "    display(Latex(text[\"problem_text\"]))\n",
    "    print(\"\\n\")"
   ]
  },
  {
   "cell_type": "markdown",
   "id": "6d536f43-f880-41d8-a620-c188d7cc44db",
   "metadata": {},
   "source": [
    "# LLM"
   ]
  },
  {
   "cell_type": "code",
   "execution_count": 12,
   "id": "d4aea34d-b03a-482c-91ed-356e51824c2b",
   "metadata": {},
   "outputs": [],
   "source": [
    "from openai import OpenAI"
   ]
  },
  {
   "cell_type": "code",
   "execution_count": 13,
   "id": "0cdd6b27-41c8-44d1-9019-b5b9735d5038",
   "metadata": {},
   "outputs": [],
   "source": [
    "client = OpenAI(api_key=os.environ[\"OPENAI_KEY\"])"
   ]
  },
  {
   "cell_type": "markdown",
   "id": "30ccdac5-ff42-4d9c-ba56-838beb79ff69",
   "metadata": {},
   "source": [
    "# Promt"
   ]
  },
  {
   "cell_type": "code",
   "execution_count": 14,
   "id": "71ae12ac-56e0-4c75-a0ce-217dd6be7e2d",
   "metadata": {},
   "outputs": [],
   "source": [
    "def build_prompt(query, search_results):\n",
    "    example = \"\" \n",
    "    for doc in search_results:\n",
    "        example = example + f\"problem: {doc['problem_text']}\\nanswer: {doc['answer']}\\n\\n\"\n",
    "\n",
    "    prompt_template = f\"\"\"Role:\n",
    "You are an advanced AI system with exceptional mathematical reasoning and problem-solving capabilities, specifically designed to solve tricky math problems (whose answer is a non-negative integer) written in LaTeX format from the AI Mathematical Olympiad (AIMO) competition. Your task is to accurately analyze and solve intricate mathematical problems, demonstrating a deep understanding of mathematical concepts and a strong ability to apply logical reasoning strategies.\n",
    "\n",
    "Instruction:\n",
    "1. Carefully read and comprehend the problem statement provided in the \"Problem\" section.\n",
    "2. In the \"Similar problem\" section, scrutinise similar tasks and the correct answers. These examples will help you to check your approach to solving the problem.\n",
    "3. In the \"Solution\" section, provide a solution of the problem with detailed explanation of your logical reasoning process. Keep in mind that answer must be a non-negative integer number.\n",
    "4. Check that your approach to solving the problem will help you solve similar problem. \n",
    "5. If the answers of your approach to similar problems do not agree, find the error in your solution and correct your solution.\n",
    "6. At the end, create a \"Answer\" section where you will state only the final numerical or algebraic answer, without any additional text or narrative.\n",
    "\n",
    "Problem:\n",
    "{query}\n",
    "\n",
    "Similar Tasks:\n",
    "{example}\n",
    "\n",
    "Solution:\n",
    "...\n",
    "\n",
    "Answer:\n",
    "...\n",
    "Step-by-step solution and final answer:\"\"\"\n",
    "    return prompt_template"
   ]
  },
  {
   "cell_type": "code",
   "execution_count": 15,
   "id": "708fab10-7517-463d-834d-909338a1c2ec",
   "metadata": {},
   "outputs": [],
   "source": [
    "results = index.search(\n",
    "    query=query,\n",
    "    boost_dict=boost,\n",
    "    num_results=5\n",
    ")"
   ]
  },
  {
   "cell_type": "code",
   "execution_count": 16,
   "id": "67669382-207f-4d2c-8e74-c3c269d46d82",
   "metadata": {},
   "outputs": [],
   "source": [
    "promt = build_prompt(query, results)"
   ]
  },
  {
   "cell_type": "code",
   "execution_count": 17,
   "id": "9a8cdb95-c61a-432b-8134-90d4a1965c64",
   "metadata": {},
   "outputs": [
    {
     "data": {
      "text/latex": [
       "Role:\n",
       "You are an advanced AI system with exceptional mathematical reasoning and problem-solving capabilities, specifically designed to solve tricky math problems (whose answer is a non-negative integer) written in LaTeX format from the AI Mathematical Olympiad (AIMO) competition. Your task is to accurately analyze and solve intricate mathematical problems, demonstrating a deep understanding of mathematical concepts and a strong ability to apply logical reasoning strategies.\n",
       "\n",
       "Instruction:\n",
       "1. Carefully read and comprehend the problem statement provided in the \"Problem\" section.\n",
       "2. In the \"Similar problem\" section, scrutinise similar tasks and the correct answers. These examples will help you to check your approach to solving the problem.\n",
       "3. In the \"Solution\" section, provide a solution of the problem with detailed explanation of your logical reasoning process. Keep in mind that answer must be a non-negative integer number.\n",
       "4. Check that your approach to solving the problem will help you solve similar problem. \n",
       "5. If the answers of your approach to similar problems do not agree, find the error in your solution and correct your solution.\n",
       "6. At the end, create a \"Answer\" section where you will state only the final numerical or algebraic answer, without any additional text or narrative.\n",
       "\n",
       "Problem:\n",
       "Find the value of the expression \\(4.8 \\cdot 2.5\\).\n",
       "\n",
       "Similar Tasks:\n",
       "problem: Find the value of the expression \\(9\\cdot 10^{2} +3\\cdot 10 +7\\cdot 10^{3}\\).\n",
       "answer: 7930\n",
       "\n",
       "problem: Find the value of the expression $\\sqrt{24} \\cdot \\sqrt{6}$.\n",
       "answer: 12\n",
       "\n",
       "problem: Find the value of the expression \\(\\dfrac{\\sqrt{5} \\cdot \\sqrt{6}}{\\sqrt{2 \\cdot 15}}\\).\n",
       "answer: 1\n",
       "\n",
       "problem: Find the value of the expression $\\sqrt{63} \\cdot \\sqrt{7}$.\n",
       "answer: 21\n",
       "\n",
       "problem: Find the value of the expression \\(2\\dfrac{5}{14} + 5 + \\dfrac{8}{7}\\).\n",
       "answer: 8.5\n",
       "\n",
       "\n",
       "\n",
       "Solution:\n",
       "...\n",
       "\n",
       "Answer:\n",
       "...\n",
       "Step-by-step solution and final answer:"
      ],
      "text/plain": [
       "<IPython.core.display.Latex object>"
      ]
     },
     "execution_count": 17,
     "metadata": {},
     "output_type": "execute_result"
    }
   ],
   "source": [
    "Latex(promt)"
   ]
  },
  {
   "cell_type": "code",
   "execution_count": 18,
   "id": "2fd4d474-53ec-44bd-9642-a35d4437691e",
   "metadata": {},
   "outputs": [],
   "source": [
    "response = client.chat.completions.create(\n",
    "    model='gpt-4o',\n",
    "    messages=[{\"role\": \"user\", \"content\": promt}]\n",
    ")"
   ]
  },
  {
   "cell_type": "code",
   "execution_count": 19,
   "id": "f8804345-84f7-47d8-b1dc-da4255b762a2",
   "metadata": {},
   "outputs": [],
   "source": [
    "answer = response.choices[0].message.content"
   ]
  },
  {
   "cell_type": "code",
   "execution_count": 20,
   "id": "026513f4-ea5e-4b58-b8ac-c4c9cdec112f",
   "metadata": {},
   "outputs": [],
   "source": [
    "def extract_numerical_answer(text):\n",
    "    # Look for patterns like \"Final answer: X\" or \"The answer is X\" at the end of the text\n",
    "    match = re.search(r'(?:final answer|the answer is)[:\\s]*([+-]?\\d*\\.?\\d+)', text, re.IGNORECASE)\n",
    "    if match:\n",
    "        return float(match.group(1))\n",
    "    else:\n",
    "        # If no clear final answer, look for the last number in the text\n",
    "        numbers = re.findall(r'[+-]?\\d*\\.?\\d+', text)\n",
    "        return float(numbers[-1]) if numbers else 1.0"
   ]
  },
  {
   "cell_type": "code",
   "execution_count": 21,
   "id": "5fd8698a-8b09-4242-b74f-d36faff35aba",
   "metadata": {},
   "outputs": [
    {
     "data": {
      "text/latex": [
       "Let's determine the value of the given expression \\(4.8 \\cdot 2.5\\).\n",
       "\n",
       "Step-by-step solution:\n",
       "\n",
       "1. Write the multiplication expression in decimal form:\n",
       "   \\[\n",
       "   4.8 \\cdot 2.5 = \\left( \\frac{48}{10} \\right) \\cdot \\left( \\frac{25}{10} \\right)\n",
       "   \\]\n",
       "\n",
       "2. Simplify the multiplications of fractions:\n",
       "   \\[\n",
       "   \\left( \\frac{48}{10} \\right) \\cdot \\left( \\frac{25}{10} \\right) = \\frac{48 \\cdot 25}{10 \\cdot 10} = \\frac{1200}{100}\n",
       "   \\]\n",
       "\n",
       "3. Simplify the fraction \\(\\frac{1200}{100}\\):\n",
       "   \\[\n",
       "   \\frac{1200}{100} = 12\n",
       "   \\]\n",
       "\n",
       "The value of the expression \\(4.8 \\cdot 2.5\\) is 12.\n",
       "\n",
       "Let's cross-verify the solution using an alternate approach to ensure the accuracy of our calculation:\n",
       "\n",
       "1. Express \\(4.8\\) and \\(2.5\\) as algebraic expressions:\n",
       "   \\[\n",
       "   4.8 = 48 \\times 10^{-1}\n",
       "   \\]\n",
       "   \\[\n",
       "   2.5 = 25 \\times 10^{-1}\n",
       "   \\]\n",
       "\n",
       "2. Now multiply these two simplified forms:\n",
       "   \\[\n",
       "   (48 \\times 10^{-1}) \\cdot (25 \\times 10^{-1}) = (48 \\cdot 25) \\times (10^{-1} \\cdot 10^{-1})\n",
       "   \\]\n",
       "\n",
       "3. Compute the multiplication inside the parentheses:\n",
       "   \\[\n",
       "   48 \\cdot 25 = 1200\n",
       "   \\]\n",
       "   \\[\n",
       "   10^{-1} \\cdot 10^{-1} = 10^{-2} = \\frac{1}{100}\n",
       "   \\]\n",
       "\n",
       "4. Now, put it together:\n",
       "   \\[\n",
       "   1200 \\times \\frac{1}{100} = \\frac{1200}{100} = 12\n",
       "   \\]\n",
       "\n",
       "This confirms that the value of \\(4.8 \\cdot 2.5\\) is indeed 12.\n",
       "\n",
       "Answer:\n",
       "12"
      ],
      "text/plain": [
       "<IPython.core.display.Latex object>"
      ]
     },
     "execution_count": 21,
     "metadata": {},
     "output_type": "execute_result"
    }
   ],
   "source": [
    "Latex(answer)"
   ]
  },
  {
   "cell_type": "code",
   "execution_count": 22,
   "id": "71b8a25c-7102-4519-b548-26c32f1f9e28",
   "metadata": {},
   "outputs": [
    {
     "data": {
      "text/plain": [
       "12.0"
      ]
     },
     "execution_count": 22,
     "metadata": {},
     "output_type": "execute_result"
    }
   ],
   "source": [
    "extract_numerical_answer(answer)"
   ]
  },
  {
   "cell_type": "markdown",
   "id": "dda16599-c518-4924-a606-094e05058dba",
   "metadata": {},
   "source": [
    "# Rag"
   ]
  },
  {
   "cell_type": "code",
   "execution_count": 23,
   "id": "5a822d8a-e69c-4320-8dac-35b524408a13",
   "metadata": {},
   "outputs": [],
   "source": [
    "def llm(prompt):\n",
    "    response = client.chat.completions.create(\n",
    "        model='gpt-4o',\n",
    "        messages=[{\"role\": \"user\", \"content\": prompt}]\n",
    "    )\n",
    "    \n",
    "    return response.choices[0].message.content"
   ]
  },
  {
   "cell_type": "code",
   "execution_count": 24,
   "id": "d43ca038-7d81-4cb1-b2b3-9a1cd300d6bb",
   "metadata": {},
   "outputs": [],
   "source": [
    "def rag(query):\n",
    "    similar_problem = index.search(\n",
    "        query=query,\n",
    "        boost_dict=boost,\n",
    "        num_results=5\n",
    "    )\n",
    "    \n",
    "    prompt = build_prompt(query, similar_problem[1:])\n",
    "    response = llm(prompt)\n",
    "    answer = extract_numerical_answer(response)\n",
    "    return answer, response"
   ]
  },
  {
   "cell_type": "code",
   "execution_count": 25,
   "id": "83c86db0-7591-47d1-aa56-9f84c4da5e56",
   "metadata": {},
   "outputs": [
    {
     "data": {
      "text/latex": [
       "Find the value of the expression \\(4.8 \\cdot 2.5\\)."
      ],
      "text/plain": [
       "<IPython.core.display.Latex object>"
      ]
     },
     "execution_count": 25,
     "metadata": {},
     "output_type": "execute_result"
    }
   ],
   "source": [
    "Latex(query)"
   ]
  },
  {
   "cell_type": "code",
   "execution_count": 26,
   "id": "bf4277d1-edd7-46ee-8233-c8e03f227527",
   "metadata": {},
   "outputs": [],
   "source": [
    "answer, _ = rag(query)"
   ]
  },
  {
   "cell_type": "code",
   "execution_count": 27,
   "id": "526b32cc-0eb4-4fc2-9ed1-316df14258dd",
   "metadata": {},
   "outputs": [
    {
     "data": {
      "text/plain": [
       "12.0"
      ]
     },
     "execution_count": 27,
     "metadata": {},
     "output_type": "execute_result"
    }
   ],
   "source": [
    "answer"
   ]
  },
  {
   "cell_type": "markdown",
   "id": "ce13f693-acf5-4c42-ae22-7e71b6999240",
   "metadata": {},
   "source": [
    "# Train processing"
   ]
  },
  {
   "cell_type": "code",
   "execution_count": 28,
   "id": "0e52da28-7f72-468b-91f1-806d32d3a3f0",
   "metadata": {},
   "outputs": [],
   "source": [
    "from concurrent.futures import ThreadPoolExecutor"
   ]
  },
  {
   "cell_type": "code",
   "execution_count": 29,
   "id": "a04273c8-4742-49f5-97e5-a83850758393",
   "metadata": {},
   "outputs": [],
   "source": [
    "pool = ThreadPoolExecutor(max_workers=3)"
   ]
  },
  {
   "cell_type": "code",
   "execution_count": 30,
   "id": "df0cbdee-5d1c-44a3-8688-b42be236f1b7",
   "metadata": {},
   "outputs": [],
   "source": [
    "def parallel_execute(pool, tasks, function):\n",
    "    answers = []\n",
    "    responses = []\n",
    "\n",
    "    with tqdm(total=len(tasks)) as progress:\n",
    "        futures = []\n",
    "\n",
    "        for task in tasks:\n",
    "            query = task[\"problem_text\"]\n",
    "            future = pool.submit(function, query)\n",
    "            future.add_done_callback(lambda p: progress.update())\n",
    "            futures.append(future)\n",
    "\n",
    "        for future in futures:\n",
    "            answer, response = future.result()\n",
    "            answers.append(answer)\n",
    "            responses.append(response)\n",
    "\n",
    "    return answers, responses"
   ]
  },
  {
   "cell_type": "code",
   "execution_count": 31,
   "id": "25a5cb4d-1f89-4d13-b714-1f3cb0a27b87",
   "metadata": {},
   "outputs": [
    {
     "name": "stderr",
     "output_type": "stream",
     "text": [
      "100%|██████████| 100/100 [04:48<00:00,  2.88s/it]\n",
      "  2%|▏         | 2/100 [00:05<04:04,  2.49s/it]"
     ]
    }
   ],
   "source": [
    "answers, responses = parallel_execute(pool, train.to_dict(\"records\"), rag)"
   ]
  },
  {
   "cell_type": "code",
   "execution_count": null,
   "id": "ffe014aa-3f67-4660-a344-9d3323934575",
   "metadata": {},
   "outputs": [],
   "source": [
    "train[\"predict\"] = answers\n",
    "train[\"response\"] = responses"
   ]
  },
  {
   "cell_type": "markdown",
   "id": "854a68a2-89f1-4707-abeb-298dcacbb4b5",
   "metadata": {},
   "source": [
    "# Metrics"
   ]
  },
  {
   "cell_type": "code",
   "execution_count": 38,
   "id": "c33bee81-4831-497a-a354-87ce5868a616",
   "metadata": {},
   "outputs": [],
   "source": [
    "from sklearn.metrics import accuracy_score"
   ]
  },
  {
   "cell_type": "code",
   "execution_count": 39,
   "id": "9712ffc2-22ab-41ef-bcaf-33303fa5ecaa",
   "metadata": {},
   "outputs": [],
   "source": [
    "def fix_suffix(value):\n",
    "    if value.endswith('.0'):\n",
    "        return value[:-2]\n",
    "    else:\n",
    "        return value"
   ]
  },
  {
   "cell_type": "code",
   "execution_count": 40,
   "id": "d1c43aaf-2c11-4084-853d-d76001c1309e",
   "metadata": {},
   "outputs": [],
   "source": [
    "train[\"predict\"] = train[\"predict\"].astype(str).apply(fix_suffix)"
   ]
  },
  {
   "cell_type": "code",
   "execution_count": 41,
   "id": "f15c5294-1f1c-40e7-96ef-a8ed9d9f7852",
   "metadata": {},
   "outputs": [
    {
     "data": {
      "text/plain": [
       "0.79"
      ]
     },
     "execution_count": 41,
     "metadata": {},
     "output_type": "execute_result"
    }
   ],
   "source": [
    "accuracy_score(train[\"answer\"], train[\"predict\"])"
   ]
  },
  {
   "cell_type": "markdown",
   "id": "62c9cbc0-231b-4388-952a-2455ffa1ceb5",
   "metadata": {},
   "source": [
    "# Test"
   ]
  },
  {
   "cell_type": "code",
   "execution_count": 49,
   "id": "e61e67ee-1cf6-45a8-8c1c-e3348f76cb9f",
   "metadata": {},
   "outputs": [],
   "source": [
    "import time"
   ]
  },
  {
   "cell_type": "code",
   "execution_count": null,
   "id": "c59cd863-6a2a-4a77-ac97-df67c46b068f",
   "metadata": {},
   "outputs": [],
   "source": [
    "def rag(query):\n",
    "    similar_problem = index.search(\n",
    "        query=query,\n",
    "        boost_dict=boost,\n",
    "        num_results=5\n",
    "    )\n",
    "    \n",
    "    prompt = build_prompt(query, similar_problem)\n",
    "    response = llm(prompt)\n",
    "    answer = extract_numerical_answer(response)\n",
    "    return answer, response"
   ]
  },
  {
   "cell_type": "code",
   "execution_count": 51,
   "id": "e53ac372-85b3-467d-9670-745bd0acd9f8",
   "metadata": {},
   "outputs": [
    {
     "name": "stderr",
     "output_type": "stream",
     "text": [
      "100%|██████████| 100/100 [1:01:54<00:00, 37.14s/it]\n"
     ]
    }
   ],
   "source": [
    "answers_test = []\n",
    "responses_test = []\n",
    "for row in tqdm(test.to_dict(\"records\")):\n",
    "    query = row[\"problem_text\"]\n",
    "    time.sleep(30)\n",
    "    answer, response = rag(query)\n",
    "    answers_test.append(answer)\n",
    "    responses_test.append(response)"
   ]
  },
  {
   "cell_type": "code",
   "execution_count": 59,
   "id": "86dcc41f-792f-4283-8252-7d3db80f466e",
   "metadata": {},
   "outputs": [],
   "source": [
    "test[\"predict\"] = answers_test\n",
    "test[\"response\"] = responses_test"
   ]
  },
  {
   "cell_type": "code",
   "execution_count": 60,
   "id": "906d2775-36c8-4df1-9e66-962bddaa3ab8",
   "metadata": {},
   "outputs": [],
   "source": [
    "test[\"predict\"] = test[\"predict\"].astype(str).apply(fix_suffix)"
   ]
  },
  {
   "cell_type": "code",
   "execution_count": 61,
   "id": "7f33e82d-9af8-47e9-aa87-1517e6c83ec0",
   "metadata": {},
   "outputs": [],
   "source": [
    "submission = test.rename(columns={\"predict\": \"answer\"})[\"answer\"].reset_index()"
   ]
  },
  {
   "cell_type": "code",
   "execution_count": 62,
   "id": "8664b00a-443c-462f-8527-7a71befa6fe7",
   "metadata": {},
   "outputs": [
    {
     "data": {
      "text/html": [
       "<div>\n",
       "<style scoped>\n",
       "    .dataframe tbody tr th:only-of-type {\n",
       "        vertical-align: middle;\n",
       "    }\n",
       "\n",
       "    .dataframe tbody tr th {\n",
       "        vertical-align: top;\n",
       "    }\n",
       "\n",
       "    .dataframe thead th {\n",
       "        text-align: right;\n",
       "    }\n",
       "</style>\n",
       "<table border=\"1\" class=\"dataframe\">\n",
       "  <thead>\n",
       "    <tr style=\"text-align: right;\">\n",
       "      <th></th>\n",
       "      <th>problem_id</th>\n",
       "      <th>answer</th>\n",
       "    </tr>\n",
       "  </thead>\n",
       "  <tbody>\n",
       "    <tr>\n",
       "      <th>0</th>\n",
       "      <td>11919</td>\n",
       "      <td>12</td>\n",
       "    </tr>\n",
       "    <tr>\n",
       "      <th>1</th>\n",
       "      <td>8513</td>\n",
       "      <td>285</td>\n",
       "    </tr>\n",
       "    <tr>\n",
       "      <th>2</th>\n",
       "      <td>7887</td>\n",
       "      <td>4</td>\n",
       "    </tr>\n",
       "    <tr>\n",
       "      <th>3</th>\n",
       "      <td>5272</td>\n",
       "      <td>6</td>\n",
       "    </tr>\n",
       "    <tr>\n",
       "      <th>4</th>\n",
       "      <td>8295</td>\n",
       "      <td>13</td>\n",
       "    </tr>\n",
       "    <tr>\n",
       "      <th>...</th>\n",
       "      <td>...</td>\n",
       "      <td>...</td>\n",
       "    </tr>\n",
       "    <tr>\n",
       "      <th>95</th>\n",
       "      <td>3519</td>\n",
       "      <td>35</td>\n",
       "    </tr>\n",
       "    <tr>\n",
       "      <th>96</th>\n",
       "      <td>7934</td>\n",
       "      <td>12</td>\n",
       "    </tr>\n",
       "    <tr>\n",
       "      <th>97</th>\n",
       "      <td>9390</td>\n",
       "      <td>217000</td>\n",
       "    </tr>\n",
       "    <tr>\n",
       "      <th>98</th>\n",
       "      <td>7137</td>\n",
       "      <td>22</td>\n",
       "    </tr>\n",
       "    <tr>\n",
       "      <th>99</th>\n",
       "      <td>5914</td>\n",
       "      <td>300</td>\n",
       "    </tr>\n",
       "  </tbody>\n",
       "</table>\n",
       "<p>100 rows × 2 columns</p>\n",
       "</div>"
      ],
      "text/plain": [
       "    problem_id  answer\n",
       "0        11919      12\n",
       "1         8513     285\n",
       "2         7887       4\n",
       "3         5272       6\n",
       "4         8295      13\n",
       "..         ...     ...\n",
       "95        3519      35\n",
       "96        7934      12\n",
       "97        9390  217000\n",
       "98        7137      22\n",
       "99        5914     300\n",
       "\n",
       "[100 rows x 2 columns]"
      ]
     },
     "execution_count": 62,
     "metadata": {},
     "output_type": "execute_result"
    }
   ],
   "source": [
    "submission"
   ]
  },
  {
   "cell_type": "code",
   "execution_count": 63,
   "id": "91818bcf-7325-493f-abe6-7f89544243d4",
   "metadata": {},
   "outputs": [],
   "source": [
    "submission.to_csv(\"result/rag_baseline.csv\", index=False)"
   ]
  },
  {
   "cell_type": "markdown",
   "id": "7fc26257-d92e-4a7a-bb5b-77ff9e0e686e",
   "metadata": {},
   "source": [
    "# Save"
   ]
  },
  {
   "cell_type": "code",
   "execution_count": 64,
   "id": "06066482-92c5-456e-8511-74e23c89a453",
   "metadata": {},
   "outputs": [],
   "source": [
    "train.to_csv(\"data/rag/train.csv\", index=False)"
   ]
  },
  {
   "cell_type": "code",
   "execution_count": 65,
   "id": "c449b5a5-f8e0-4669-9844-ee31b8b4f5b6",
   "metadata": {},
   "outputs": [],
   "source": [
    "test.to_csv(\"data/rag/test.csv\", index=False)"
   ]
  }
 ],
 "metadata": {
  "kernelspec": {
   "display_name": "Python 3 (ipykernel)",
   "language": "python",
   "name": "python3"
  },
  "language_info": {
   "codemirror_mode": {
    "name": "ipython",
    "version": 3
   },
   "file_extension": ".py",
   "mimetype": "text/x-python",
   "name": "python",
   "nbconvert_exporter": "python",
   "pygments_lexer": "ipython3",
   "version": "3.12.4"
  }
 },
 "nbformat": 4,
 "nbformat_minor": 5
}
