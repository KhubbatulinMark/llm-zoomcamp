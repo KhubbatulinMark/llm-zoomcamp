{
 "cells": [
  {
   "cell_type": "code",
   "execution_count": 1,
   "id": "dd5b90ea-2208-4414-a6e5-f552004e0fae",
   "metadata": {},
   "outputs": [],
   "source": [
    "from openai import OpenAI"
   ]
  },
  {
   "cell_type": "code",
   "execution_count": 2,
   "id": "b188b2d4-9755-41d6-a912-d83cf7f9a306",
   "metadata": {},
   "outputs": [],
   "source": [
    "client = OpenAI(\n",
    "    base_url='http://ollama:11434/v1/',\n",
    "    api_key='ollama',\n",
    ")"
   ]
  },
  {
   "cell_type": "markdown",
   "id": "e8cf0bdc-12df-4953-adaf-7431b239e0de",
   "metadata": {},
   "source": [
    "# Q3. Running the LLM"
   ]
  },
  {
   "cell_type": "code",
   "execution_count": 3,
   "id": "1ced8349-afd6-4d71-91dc-e1e70ed7382d",
   "metadata": {},
   "outputs": [],
   "source": [
    "prompt = \"10*10\""
   ]
  },
  {
   "cell_type": "code",
   "execution_count": 4,
   "id": "30db5dfe-2c26-4565-970c-b5819b87697f",
   "metadata": {},
   "outputs": [],
   "source": [
    "response = client.chat.completions.create(\n",
    "    model='gemma:2b',\n",
    "    messages=[{\"role\": \"user\", \"content\": prompt}]\n",
    ")"
   ]
  },
  {
   "cell_type": "code",
   "execution_count": 5,
   "id": "f1690b5a-3a85-469e-a078-137d38eb823c",
   "metadata": {},
   "outputs": [
    {
     "data": {
      "text/plain": [
       "'Sure, here is a safe and appropriate answer to the question:\\n\\n10 * 10 = 100.'"
      ]
     },
     "execution_count": 5,
     "metadata": {},
     "output_type": "execute_result"
    }
   ],
   "source": [
    "response.choices[0].message.content"
   ]
  },
  {
   "cell_type": "markdown",
   "id": "af91494c-afb5-4310-be4b-5b13d9f16ab0",
   "metadata": {},
   "source": [
    "# Q6. Serving the LLM. Number of output tokens"
   ]
  },
  {
   "cell_type": "code",
   "execution_count": 6,
   "id": "b0a71bcc-8d0e-4aee-8d14-6b4aa39f259a",
   "metadata": {},
   "outputs": [],
   "source": [
    "prompt = \"What's the formula for energy?\""
   ]
  },
  {
   "cell_type": "code",
   "execution_count": 7,
   "id": "1f38df4b-5df3-4e30-97d8-8043c515624e",
   "metadata": {},
   "outputs": [],
   "source": [
    "response = client.chat.completions.create(\n",
    "    model='gemma:2b',\n",
    "    temperature=0.0,\n",
    "    messages=[{\"role\": \"user\", \"content\": prompt}]\n",
    ")"
   ]
  },
  {
   "cell_type": "code",
   "execution_count": 8,
   "id": "584b326c-a5b2-49f9-8e2b-b10fa40d73db",
   "metadata": {},
   "outputs": [
    {
     "data": {
      "text/plain": [
       "307"
      ]
     },
     "execution_count": 8,
     "metadata": {},
     "output_type": "execute_result"
    }
   ],
   "source": [
    "response.usage.total_tokens"
   ]
  },
  {
   "cell_type": "code",
   "execution_count": 9,
   "id": "184909ea-9f0d-4199-b9fe-b7041ec0172a",
   "metadata": {},
   "outputs": [
    {
     "data": {
      "text/plain": [
       "\"Sure, here's the formula for energy:\\n\\n**E = K + U**\\n\\nWhere:\\n\\n* **E** is the energy in joules (J)\\n* **K** is the kinetic energy in joules (J)\\n* **U** is the potential energy in joules (J)\\n\\n**Kinetic energy (K)** is the energy an object possesses when it moves or is in motion. It is calculated as half the product of an object's mass (m) and its velocity (v) squared:\\n\\n**K = 1/2mv^2**\\n\\n**Potential energy (U)** is the energy an object possesses due to its position or configuration. It is calculated as the product of an object's mass, gravitational constant (g), and height or position above a reference point.\\n\\n**U = mgh**\\n\\n**Where:**\\n\\n* **m** is the mass in kilograms (kg)\\n* **g** is the acceleration due to gravity in meters per second squared (m/s²)\\n* **h** is the height or position in meters (m)\\n\\nThe formula shows that energy can be expressed as the sum of kinetic and potential energy. The kinetic energy is a measure of the object's ability to do work, while the potential energy is a measure of the object's ability to do work against gravity.\""
      ]
     },
     "execution_count": 9,
     "metadata": {},
     "output_type": "execute_result"
    }
   ],
   "source": [
    "response.choices[0].message.content"
   ]
  },
  {
   "cell_type": "code",
   "execution_count": null,
   "id": "2b9d9beb-6547-49e7-9fbc-18bbebe160b3",
   "metadata": {},
   "outputs": [],
   "source": []
  }
 ],
 "metadata": {
  "kernelspec": {
   "display_name": "Python 3 (ipykernel)",
   "language": "python",
   "name": "python3"
  },
  "language_info": {
   "codemirror_mode": {
    "name": "ipython",
    "version": 3
   },
   "file_extension": ".py",
   "mimetype": "text/x-python",
   "name": "python",
   "nbconvert_exporter": "python",
   "pygments_lexer": "ipython3",
   "version": "3.12.4"
  }
 },
 "nbformat": 4,
 "nbformat_minor": 5
}
