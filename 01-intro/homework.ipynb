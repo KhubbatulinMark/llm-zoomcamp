{
 "cells": [
  {
   "cell_type": "code",
   "execution_count": 1,
   "id": "70cdd729-e0cf-42c9-8125-430c316b5abf",
   "metadata": {},
   "outputs": [],
   "source": [
    "import os\n",
    "\n",
    "import openai\n",
    "from openai import OpenAI"
   ]
  },
  {
   "cell_type": "markdown",
   "id": "39a9d392-8989-4f9b-8b01-5b7636bd617f",
   "metadata": {},
   "source": [
    "# Part 1"
   ]
  },
  {
   "cell_type": "code",
   "execution_count": 2,
   "id": "f5872681-3293-45c0-af13-28d87140b79d",
   "metadata": {},
   "outputs": [],
   "source": [
    "client = OpenAI(api_key=os.environ[\"OPENAI_KEY\"])"
   ]
  },
  {
   "cell_type": "code",
   "execution_count": 3,
   "id": "222c9b75-fd2b-4455-8f7c-7e0887ce206e",
   "metadata": {},
   "outputs": [],
   "source": [
    "response = client.chat.completions.create(\n",
    "  model=\"gpt-4o\",\n",
    "  messages=[\n",
    "    {\n",
    "      \"role\": \"user\",\n",
    "      \"content\": [\n",
    "        {\n",
    "          \"type\": \"text\",\n",
    "          \"text\": \"This is my test request to ChatGPT\"\n",
    "        }\n",
    "      ]\n",
    "    }\n",
    "  ],\n",
    ")"
   ]
  },
  {
   "cell_type": "code",
   "execution_count": 4,
   "id": "4755fe62-bd21-48be-90a8-87449d11afa9",
   "metadata": {},
   "outputs": [
    {
     "data": {
      "text/plain": [
       "'Thanks for reaching out! How can I assist you today?'"
      ]
     },
     "execution_count": 4,
     "metadata": {},
     "output_type": "execute_result"
    }
   ],
   "source": [
    "response.choices[0].message.content"
   ]
  },
  {
   "cell_type": "markdown",
   "id": "cf01764f-50c3-4a27-8298-cfc650970e5b",
   "metadata": {},
   "source": [
    "# Part 2"
   ]
  },
  {
   "cell_type": "markdown",
   "id": "34b94c7c-f845-4774-9c72-cae15110e4cc",
   "metadata": {},
   "source": [
    "## Q1. Running Elastic"
   ]
  },
  {
   "cell_type": "code",
   "execution_count": 5,
   "id": "299ae471-c757-4773-ba57-a6dee5177174",
   "metadata": {},
   "outputs": [
    {
     "name": "stdout",
     "output_type": "stream",
     "text": [
      "{\n",
      "  \"name\" : \"760ff73ef145\",\n",
      "  \"cluster_name\" : \"docker-cluster\",\n",
      "  \"cluster_uuid\" : \"tqFS-PexTHiPBpvAUEeFww\",\n",
      "  \"version\" : {\n",
      "    \"number\" : \"8.4.3\",\n",
      "    \"build_flavor\" : \"default\",\n",
      "    \"build_type\" : \"docker\",\n",
      "    \"build_hash\" : \"42f05b9372a9a4a470db3b52817899b99a76ee73\",\n",
      "    \"build_date\" : \"2022-10-04T07:17:24.662462378Z\",\n",
      "    \"build_snapshot\" : false,\n",
      "    \"lucene_version\" : \"9.3.0\",\n",
      "    \"minimum_wire_compatibility_version\" : \"7.17.0\",\n",
      "    \"minimum_index_compatibility_version\" : \"7.0.0\"\n",
      "  },\n",
      "  \"tagline\" : \"You Know, for Search\"\n",
      "}\n"
     ]
    }
   ],
   "source": [
    "!curl elasticsearch:9200"
   ]
  },
  {
   "cell_type": "markdown",
   "id": "31f765e0-7d26-4fed-8dea-ad3ad59efd7b",
   "metadata": {},
   "source": [
    "## Q2. Indexing the data"
   ]
  },
  {
   "cell_type": "markdown",
   "id": "925087d9-3559-4599-8274-e5790234ba3f",
   "metadata": {},
   "source": [
    "Which function do you use for adding your data to elastic?\n",
    "\n",
    "* insert\n",
    "* **index**\n",
    "* put\n",
    "* add"
   ]
  },
  {
   "cell_type": "markdown",
   "id": "c46a2942-9a45-4411-a0c0-2ec8e012b476",
   "metadata": {},
   "source": [
    "## Q3. Searching"
   ]
  },
  {
   "cell_type": "code",
   "execution_count": 6,
   "id": "34262236-a213-4e90-8720-75b6bce63a2e",
   "metadata": {},
   "outputs": [],
   "source": [
    "from elasticsearch import Elasticsearch"
   ]
  },
  {
   "cell_type": "code",
   "execution_count": 7,
   "id": "08d87c62-d088-4623-9b40-9b40e90cbcf1",
   "metadata": {},
   "outputs": [],
   "source": [
    "index_name = \"course-questions\"\n",
    "es_client = Elasticsearch('http://elasticsearch:9200') "
   ]
  },
  {
   "cell_type": "code",
   "execution_count": 8,
   "id": "3a43db16-c852-4ad9-a607-7d815b83a3ee",
   "metadata": {},
   "outputs": [],
   "source": [
    "query = \"How do I execute a command in a running docker container?\"\n",
    "\n",
    "search_query = {\n",
    "    \"size\": 1,\n",
    "    \"query\": {\n",
    "        \"bool\": {\n",
    "            \"must\": {\n",
    "                \"multi_match\": {\n",
    "                    \"query\": query,\n",
    "                    \"fields\": [\"question^4\", \"text\"],\n",
    "                }\n",
    "            },\n",
    "        }\n",
    "    }\n",
    "}"
   ]
  },
  {
   "cell_type": "code",
   "execution_count": 9,
   "id": "5908dad7-4993-44bc-adad-3309b9bf64fb",
   "metadata": {},
   "outputs": [],
   "source": [
    "response = es_client.search(index=index_name, body=search_query)"
   ]
  },
  {
   "cell_type": "code",
   "execution_count": 10,
   "id": "73519c0f-217d-4f5c-a674-ca3f85ac7b6b",
   "metadata": {},
   "outputs": [
    {
     "data": {
      "text/plain": [
       "{'total': {'value': 865, 'relation': 'eq'},\n",
       " 'max_score': 84.050095,\n",
       " 'hits': [{'_index': 'course-questions',\n",
       "   '_id': 'pX_FJ5ABo5uIm2EbifUu',\n",
       "   '_score': 84.050095,\n",
       "   '_source': {'text': 'Launch the container image in interactive mode and overriding the entrypoint, so that it starts a bash command.\\ndocker run -it --entrypoint bash <image>\\nIf the container is already running, execute a command in the specific container:\\ndocker ps (find the container-id)\\ndocker exec -it <container-id> bash\\n(Marcos MJD)',\n",
       "    'section': '5. Deploying Machine Learning Models',\n",
       "    'question': 'How do I debug a docker container?',\n",
       "    'course': 'machine-learning-zoomcamp'}}]}"
      ]
     },
     "execution_count": 10,
     "metadata": {},
     "output_type": "execute_result"
    }
   ],
   "source": [
    "response.body[\"hits\"]"
   ]
  },
  {
   "cell_type": "markdown",
   "id": "fb174407-0cc9-4ba6-862b-66cfb0604327",
   "metadata": {},
   "source": [
    "## Q4. Filtering"
   ]
  },
  {
   "cell_type": "code",
   "execution_count": 11,
   "id": "feb0b13e-26ab-4695-a07b-53e6f74e6105",
   "metadata": {},
   "outputs": [],
   "source": [
    "query = \"How do I execute a command in a running docker container?\"\n",
    "\n",
    "search_query = {\n",
    "    \"size\": 3,\n",
    "    \"query\": {\n",
    "        \"bool\": {\n",
    "            \"must\": {\n",
    "                \"multi_match\": {\n",
    "                    \"query\": query,\n",
    "                    \"fields\": [\"question^4\", \"text\"],\n",
    "                }\n",
    "            },\n",
    "            \"filter\": {\n",
    "                \"term\": {\n",
    "                    \"course\": \"machine-learning-zoomcamp\"\n",
    "                }\n",
    "            }\n",
    "        }\n",
    "    }\n",
    "}"
   ]
  },
  {
   "cell_type": "code",
   "execution_count": 12,
   "id": "521efd17-c01b-4958-92f0-86f5b103c941",
   "metadata": {},
   "outputs": [],
   "source": [
    "response = es_client.search(index=index_name, body=search_query)"
   ]
  },
  {
   "cell_type": "code",
   "execution_count": 13,
   "id": "ac279e7e-5436-47fa-9a75-4a319b418500",
   "metadata": {},
   "outputs": [
    {
     "data": {
      "text/plain": [
       "'How do I copy files from a different folder into docker container’s working directory?'"
      ]
     },
     "execution_count": 13,
     "metadata": {},
     "output_type": "execute_result"
    }
   ],
   "source": [
    "response.body[\"hits\"][\"hits\"][2][\"_source\"][\"question\"]"
   ]
  },
  {
   "cell_type": "markdown",
   "id": "1650975c-c696-49ab-99c3-cd06c63f7ad6",
   "metadata": {},
   "source": [
    "## Q5. Building a prompt"
   ]
  },
  {
   "cell_type": "code",
   "execution_count": 14,
   "id": "7749b94a-2477-4dec-b288-2f58cde5e874",
   "metadata": {},
   "outputs": [],
   "source": [
    "query = \"How do I execute a command in a running docker container?\"\n",
    "\n",
    "search_query = {\n",
    "    \"size\": 3,\n",
    "    \"query\": {\n",
    "        \"bool\": {\n",
    "            \"must\": {\n",
    "                \"multi_match\": {\n",
    "                    \"query\": query,\n",
    "                    \"fields\": [\"question^4\", \"text\"],\n",
    "                }\n",
    "            },\n",
    "            \"filter\": {\n",
    "                \"term\": {\n",
    "                    \"course\": \"machine-learning-zoomcamp\"\n",
    "                }\n",
    "            }\n",
    "        }\n",
    "    }\n",
    "}"
   ]
  },
  {
   "cell_type": "code",
   "execution_count": 15,
   "id": "efdc9f94-2a38-478e-9c13-eb606ef58b31",
   "metadata": {},
   "outputs": [],
   "source": [
    "def elastic_search(client, query, search_query):\n",
    "\n",
    "    response = client.search(index=index_name, body=search_query)\n",
    "    \n",
    "    result_docs = []\n",
    "    \n",
    "    for hit in response['hits']['hits']:\n",
    "        result_docs.append(hit['_source'])\n",
    "    \n",
    "    return result_docs"
   ]
  },
  {
   "cell_type": "code",
   "execution_count": 16,
   "id": "87032c43-b548-46bc-baa5-fa19f5d14371",
   "metadata": {},
   "outputs": [],
   "source": [
    "def build_prompt(query, search_results):\n",
    "\n",
    "\n",
    "    context_template = \"\"\"\n",
    "Q: {question}\n",
    "A: {text}\n",
    "\"\"\".strip()\n",
    "\n",
    "    context = \"\"\n",
    "    for doc in search_results:\n",
    "        context += f\"{context_template.format(question=doc[\"question\"], text=doc[\"text\"])}\\n\\n\"\n",
    "    \n",
    "    prompt_template = \"\"\"\n",
    "You're a course teaching assistant. Answer the QUESTION based on the CONTEXT from the FAQ database.\n",
    "Use only the facts from the CONTEXT when answering the QUESTION.\n",
    "\n",
    "QUESTION: {question}\n",
    "\n",
    "CONTEXT:\n",
    "{context}\n",
    "\"\"\".strip()\n",
    "    \n",
    "    prompt = prompt_template.format(question=query, context=context).strip()\n",
    "    return prompt"
   ]
  },
  {
   "cell_type": "code",
   "execution_count": 17,
   "id": "48ce2b5d-a671-4184-9d84-cbf803ab6769",
   "metadata": {},
   "outputs": [],
   "source": [
    "search_results = elastic_search(es_client, query, search_query)"
   ]
  },
  {
   "cell_type": "code",
   "execution_count": 18,
   "id": "5efd5d42-1cea-436c-b4c5-af9dc146c9e1",
   "metadata": {},
   "outputs": [],
   "source": [
    "prompt = build_prompt(query, search_results)"
   ]
  },
  {
   "cell_type": "code",
   "execution_count": 19,
   "id": "90eb4da5-b8be-4602-b1c9-c2f785d19a68",
   "metadata": {},
   "outputs": [
    {
     "name": "stdout",
     "output_type": "stream",
     "text": [
      "You're a course teaching assistant. Answer the QUESTION based on the CONTEXT from the FAQ database.\n",
      "Use only the facts from the CONTEXT when answering the QUESTION.\n",
      "\n",
      "QUESTION: How do I execute a command in a running docker container?\n",
      "\n",
      "CONTEXT:\n",
      "Q: How do I debug a docker container?\n",
      "A: Launch the container image in interactive mode and overriding the entrypoint, so that it starts a bash command.\n",
      "docker run -it --entrypoint bash <image>\n",
      "If the container is already running, execute a command in the specific container:\n",
      "docker ps (find the container-id)\n",
      "docker exec -it <container-id> bash\n",
      "(Marcos MJD)\n",
      "\n",
      "Q: How do I copy files from my local machine to docker container?\n",
      "A: You can copy files from your local machine into a Docker container using the docker cp command. Here's how to do it:\n",
      "To copy a file or directory from your local machine into a running Docker container, you can use the `docker cp command`. The basic syntax is as follows:\n",
      "docker cp /path/to/local/file_or_directory container_id:/path/in/container\n",
      "Hrithik Kumar Advani\n",
      "\n",
      "Q: How do I copy files from a different folder into docker container’s working directory?\n",
      "A: You can copy files from your local machine into a Docker container using the docker cp command. Here's how to do it:\n",
      "In the Dockerfile, you can provide the folder containing the files that you want to copy over. The basic syntax is as follows:\n",
      "COPY [\"src/predict.py\", \"models/xgb_model.bin\", \"./\"]\t\t\t\t\t\t\t\t\t\t\tGopakumar Gopinathan\n"
     ]
    }
   ],
   "source": [
    "print(prompt)"
   ]
  },
  {
   "cell_type": "code",
   "execution_count": 20,
   "id": "3adf0401-5bff-417a-a880-9f6e9693da21",
   "metadata": {},
   "outputs": [
    {
     "data": {
      "text/plain": [
       "1462"
      ]
     },
     "execution_count": 20,
     "metadata": {},
     "output_type": "execute_result"
    }
   ],
   "source": [
    "len(prompt)"
   ]
  },
  {
   "cell_type": "markdown",
   "id": "263d2f66-987b-41da-90d7-db3a3ba549a1",
   "metadata": {},
   "source": [
    "## Q6. Tokens"
   ]
  },
  {
   "cell_type": "code",
   "execution_count": 21,
   "id": "84e06b37-d56c-4bf1-83cf-816b82f04c0b",
   "metadata": {},
   "outputs": [],
   "source": [
    "import tiktoken"
   ]
  },
  {
   "cell_type": "code",
   "execution_count": 22,
   "id": "8854b6ea-ee06-4d4c-a2cb-c0aa4cc9e7f6",
   "metadata": {},
   "outputs": [],
   "source": [
    "encoding = tiktoken.encoding_for_model(\"gpt-4o\")"
   ]
  },
  {
   "cell_type": "code",
   "execution_count": 23,
   "id": "93ab59b6-5b36-427b-851d-c0055e4e6639",
   "metadata": {},
   "outputs": [
    {
     "data": {
      "text/plain": [
       "322"
      ]
     },
     "execution_count": 23,
     "metadata": {},
     "output_type": "execute_result"
    }
   ],
   "source": [
    "len(encoding.encode(prompt))"
   ]
  },
  {
   "cell_type": "code",
   "execution_count": 24,
   "id": "dd816d36-77df-42a4-a34c-3f8eeeafe5a6",
   "metadata": {},
   "outputs": [
    {
     "data": {
      "text/plain": [
       "[63842, 261, 4165, 14029, 29186, 13, 30985, 290, 150339, 4122]"
      ]
     },
     "execution_count": 24,
     "metadata": {},
     "output_type": "execute_result"
    }
   ],
   "source": [
    "encoding.encode(prompt)[:10]"
   ]
  },
  {
   "cell_type": "code",
   "execution_count": 25,
   "id": "05525945-ab52-4c1d-8dc9-497e0269abb8",
   "metadata": {},
   "outputs": [
    {
     "data": {
      "text/plain": [
       "[b\"You're\",\n",
       " b' a',\n",
       " b' course',\n",
       " b' teaching',\n",
       " b' assistant',\n",
       " b'.',\n",
       " b' Answer',\n",
       " b' the',\n",
       " b' QUESTION',\n",
       " b' based']"
      ]
     },
     "execution_count": 25,
     "metadata": {},
     "output_type": "execute_result"
    }
   ],
   "source": [
    "[encoding.decode_single_token_bytes(token) for token in  encoding.encode(prompt)[:10]]"
   ]
  },
  {
   "cell_type": "markdown",
   "id": "251fe0f8-7420-4128-ad46-31ac6b243e73",
   "metadata": {},
   "source": [
    "## Bonus: generating the answer (ungraded)\n",
    " "
   ]
  },
  {
   "cell_type": "code",
   "execution_count": 26,
   "id": "5327f9a0-8aa4-408b-a535-3e2e8fd7b593",
   "metadata": {},
   "outputs": [],
   "source": [
    "def llm(prompt):\n",
    "    response = client.chat.completions.create(\n",
    "        model='gpt-4o',\n",
    "        messages=[{\"role\": \"user\", \"content\": prompt}]\n",
    "    )\n",
    "    \n",
    "    return response.choices[0].message.content"
   ]
  },
  {
   "cell_type": "code",
   "execution_count": 27,
   "id": "daadd69a-976c-42f2-bb21-cedbed7271e2",
   "metadata": {},
   "outputs": [],
   "source": [
    "result = llm(prompt)"
   ]
  },
  {
   "cell_type": "code",
   "execution_count": 28,
   "id": "aa8bcd56-b2c0-43a6-a5e1-cd4f98ae3287",
   "metadata": {},
   "outputs": [
    {
     "name": "stdout",
     "output_type": "stream",
     "text": [
      "To execute a command in a running Docker container, you can use the `docker exec` command. First, find the `container-id` using the `docker ps` command. Then, execute your desired command in the specific container as follows:\n",
      "\n",
      "1. List all running containers to find the `container-id`:\n",
      "   ```sh\n",
      "   docker ps\n",
      "   ```\n",
      "\n",
      "2. Execute a command in the running container using the `container-id`. For example, to start a bash session:\n",
      "   ```sh\n",
      "   docker exec -it <container-id> bash\n",
      "   ```\n",
      "Replace `<container-id>` with the actual ID of your container.\n"
     ]
    }
   ],
   "source": [
    "print(result)"
   ]
  },
  {
   "cell_type": "markdown",
   "id": "e433e5f0-cf40-45ac-89c5-732307403399",
   "metadata": {},
   "source": [
    "## Bonus: calculating the costs (ungraded)"
   ]
  },
  {
   "cell_type": "code",
   "execution_count": 29,
   "id": "8376397c-a057-4cad-ae10-eb6f96ceacb2",
   "metadata": {},
   "outputs": [],
   "source": [
    "input_cost = 150 * 1000 * 0.005 / 1000"
   ]
  },
  {
   "cell_type": "code",
   "execution_count": 30,
   "id": "fd65654a-b8ac-4eeb-889c-99d29cc57bf2",
   "metadata": {},
   "outputs": [],
   "source": [
    "output_cost = 250 * 1000 * 0.015 / 1000"
   ]
  },
  {
   "cell_type": "code",
   "execution_count": 31,
   "id": "350edfc3-8ff7-4d37-84f2-810cced17926",
   "metadata": {},
   "outputs": [
    {
     "name": "stdout",
     "output_type": "stream",
     "text": [
      "Cost to run 1000 requests with 150 tokens and receive back 250 token: 4.5$\n"
     ]
    }
   ],
   "source": [
    "print(f\"Cost to run 1000 requests with 150 tokens and receive back 250 token: {input_cost + output_cost}$\")"
   ]
  },
  {
   "cell_type": "code",
   "execution_count": 32,
   "id": "21c9e12f-577d-4fe4-b7e5-1efb03db3ea6",
   "metadata": {},
   "outputs": [],
   "source": [
    "prompt_token = len(encoding.encode(prompt))\n",
    "result_token = len(encoding.encode(result))\n",
    "input_cost =  prompt_token * 0.005 / 1000\n",
    "output_cost = result_token * 0.015 / 1000"
   ]
  },
  {
   "cell_type": "code",
   "execution_count": 33,
   "id": "b33fe1ce-160c-4d19-be83-7ef12fb78de9",
   "metadata": {},
   "outputs": [
    {
     "name": "stdout",
     "output_type": "stream",
     "text": [
      "Cost to run 1 requests with 322 tokens and receive back 128 token: 0.0035$\n"
     ]
    }
   ],
   "source": [
    "print(f\"Cost to run 1 requests with {prompt_token} tokens and receive back {result_token} token: {round(input_cost + output_cost, 4)}$\")"
   ]
  }
 ],
 "metadata": {
  "kernelspec": {
   "display_name": "Python 3 (ipykernel)",
   "language": "python",
   "name": "python3"
  },
  "language_info": {
   "codemirror_mode": {
    "name": "ipython",
    "version": 3
   },
   "file_extension": ".py",
   "mimetype": "text/x-python",
   "name": "python",
   "nbconvert_exporter": "python",
   "pygments_lexer": "ipython3",
   "version": "3.12.4"
  }
 },
 "nbformat": 4,
 "nbformat_minor": 5
}
