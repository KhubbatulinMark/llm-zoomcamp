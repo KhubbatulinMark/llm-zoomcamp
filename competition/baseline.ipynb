{
 "cells": [
  {
   "cell_type": "code",
   "execution_count": 1,
   "id": "3cf933ca-8b82-4778-9f43-90d6ba6a36cb",
   "metadata": {},
   "outputs": [],
   "source": [
    "import os \n",
    "import re\n",
    "\n",
    "import pandas as pd\n",
    "from tqdm import tqdm\n",
    "from IPython.display import Latex"
   ]
  },
  {
   "cell_type": "code",
   "execution_count": 2,
   "id": "372c90a3-2726-4d6b-b3aa-0082645da1bf",
   "metadata": {},
   "outputs": [],
   "source": [
    "DATAPATH = \"data\""
   ]
  },
  {
   "cell_type": "markdown",
   "id": "edb832d1-eb79-4781-9283-5be1b60d1639",
   "metadata": {},
   "source": [
    "# Data"
   ]
  },
  {
   "cell_type": "code",
   "execution_count": 3,
   "id": "c11a3425-c812-492e-b2f2-a2b6ead2394d",
   "metadata": {},
   "outputs": [],
   "source": [
    "train = pd.read_csv(os.path.join(DATAPATH, \"raw/train.csv\"), index_col=\"problem_id\")\n",
    "test = pd.read_csv(os.path.join(DATAPATH, \"raw/test.csv\"), index_col=\"problem_id\")\n",
    "submission = pd.read_csv(os.path.join(DATAPATH, \"raw/sample_submission.csv\"))"
   ]
  },
  {
   "cell_type": "code",
   "execution_count": 4,
   "id": "f12069be-0a63-43e5-be18-37b50fe5dc0a",
   "metadata": {},
   "outputs": [
    {
     "data": {
      "text/plain": [
       "{'problem_text': 'Find the value of the expression $\\\\dfrac{17}{5} :\\\\dfrac{34}{3} +1.3$.',\n",
       " 'answer': '1.6'}"
      ]
     },
     "execution_count": 4,
     "metadata": {},
     "output_type": "execute_result"
    }
   ],
   "source": [
    "train.to_dict(\"records\")[0]"
   ]
  },
  {
   "cell_type": "markdown",
   "id": "c999bfdf-519c-4b32-86e5-453e778c4751",
   "metadata": {},
   "source": [
    "# Query"
   ]
  },
  {
   "cell_type": "code",
   "execution_count": 10,
   "id": "9d59b5ee-ee3d-4288-9420-34e6a78c7d5a",
   "metadata": {},
   "outputs": [],
   "source": [
    "query = train.iloc[0][\"problem_text\"]\n",
    "answer = train.iloc[0][\"answer\"]"
   ]
  },
  {
   "cell_type": "code",
   "execution_count": 11,
   "id": "5f9bf940-12f7-4b17-9ec2-86ace72e1303",
   "metadata": {},
   "outputs": [
    {
     "data": {
      "text/latex": [
       "Find the value of the expression $\\dfrac{17}{5} :\\dfrac{34}{3} +1.3$."
      ],
      "text/plain": [
       "<IPython.core.display.Latex object>"
      ]
     },
     "execution_count": 11,
     "metadata": {},
     "output_type": "execute_result"
    }
   ],
   "source": [
    "Latex(query)"
   ]
  },
  {
   "cell_type": "code",
   "execution_count": 12,
   "id": "6f1455b7-2a1a-4408-aea7-46766eb0790f",
   "metadata": {},
   "outputs": [
    {
     "data": {
      "text/plain": [
       "'1.6'"
      ]
     },
     "execution_count": 12,
     "metadata": {},
     "output_type": "execute_result"
    }
   ],
   "source": [
    "answer"
   ]
  },
  {
   "cell_type": "code",
   "execution_count": 13,
   "id": "01d7a87c-ca23-46e2-8e14-5f6a02694c3d",
   "metadata": {},
   "outputs": [],
   "source": [
    "query = test.iloc[0][\"problem_text\"]"
   ]
  },
  {
   "cell_type": "code",
   "execution_count": 14,
   "id": "86f2ba33-bd86-4f8f-8ea2-8f0d465e1aea",
   "metadata": {},
   "outputs": [
    {
     "data": {
      "text/latex": [
       "Find the value of the expression \\(4.8 \\cdot 2.5\\)."
      ],
      "text/plain": [
       "<IPython.core.display.Latex object>"
      ]
     },
     "execution_count": 14,
     "metadata": {},
     "output_type": "execute_result"
    }
   ],
   "source": [
    "Latex(query)"
   ]
  },
  {
   "cell_type": "markdown",
   "id": "6d536f43-f880-41d8-a620-c188d7cc44db",
   "metadata": {},
   "source": [
    "# LLM"
   ]
  },
  {
   "cell_type": "code",
   "execution_count": 15,
   "id": "d4aea34d-b03a-482c-91ed-356e51824c2b",
   "metadata": {},
   "outputs": [],
   "source": [
    "from openai import OpenAI"
   ]
  },
  {
   "cell_type": "code",
   "execution_count": 16,
   "id": "0cdd6b27-41c8-44d1-9019-b5b9735d5038",
   "metadata": {},
   "outputs": [],
   "source": [
    "client = OpenAI(api_key=os.environ[\"OPENAI_KEY\"])"
   ]
  },
  {
   "cell_type": "code",
   "execution_count": 17,
   "id": "67350e7f-fca7-48d7-a629-f05bf76d760e",
   "metadata": {},
   "outputs": [],
   "source": [
    "response = client.chat.completions.create(\n",
    "    model='gpt-4o',\n",
    "    messages=[{\"role\": \"user\", \"content\": query}]\n",
    ")"
   ]
  },
  {
   "cell_type": "code",
   "execution_count": 18,
   "id": "b1c8ecd3-4dbe-483f-b595-fb7f910e60ad",
   "metadata": {},
   "outputs": [
    {
     "data": {
      "text/latex": [
       "To find the value of the expression \\(4.8 \\cdot 2.5\\), we can multiply the two numbers directly. Here's the detailed calculation:\n",
       "\n",
       "First, multiply as if they are whole numbers:\n",
       "\\[\n",
       "48 \\times 25\n",
       "\\]\n",
       "\n",
       "Break \\(48\\) and \\(25\\) into simpler parts:\n",
       "\\[\n",
       "48 = 50 - 2    \\quad \\text{and} \\quad  25 = 20 + 5\n",
       "\\]\n",
       "\n",
       "Now use the distributive property \\(a(b + c) = ab + ac\\):\n",
       "\\[\n",
       "48 \\times 25 = (50 - 2) \\times 25 = (50 \\times 25) - (2 \\times 25)\n",
       "\\]\n",
       "\n",
       "Calculate \\(50 \\times 25\\):\n",
       "\\[\n",
       "50 \\times 25 = 1250\n",
       "\\]\n",
       "\n",
       "Calculate \\(2 \\times 25\\):\n",
       "\\[\n",
       "2 \\times 25 = 50\n",
       "\\]\n",
       "\n",
       "Subtract these results:\n",
       "\\[\n",
       "1250 - 50 = 1200\n",
       "\\]\n",
       "\n",
       "Now, since \\(4.8\\) has one digit after the decimal and \\(2.5\\) also has one digit after the decimal, the result should have \\(1 + 1 = 2\\) digits after the decimal place.\n",
       "Therefore:\n",
       "\\[\n",
       "48 \\times 25 = 1200 \\implies 4.8 \\times 2.5 = \\frac{1200}{100} = 12.00\n",
       "\\]\n",
       "\n",
       "Hence, the value of the expression \\(4.8 \\cdot 2.5\\) is:\n",
       "\\[\n",
       "\\boxed{12.00}\n",
       "\\]"
      ],
      "text/plain": [
       "<IPython.core.display.Latex object>"
      ]
     },
     "execution_count": 18,
     "metadata": {},
     "output_type": "execute_result"
    }
   ],
   "source": [
    "Latex(response.choices[0].message.content)"
   ]
  },
  {
   "cell_type": "code",
   "execution_count": 19,
   "id": "544e37d2-c9b7-4053-9c77-8f4afd8d63c8",
   "metadata": {},
   "outputs": [
    {
     "data": {
      "text/plain": [
       "12.0"
      ]
     },
     "execution_count": 19,
     "metadata": {},
     "output_type": "execute_result"
    }
   ],
   "source": [
    "4.8 * 2.5"
   ]
  },
  {
   "cell_type": "markdown",
   "id": "30ccdac5-ff42-4d9c-ba56-838beb79ff69",
   "metadata": {},
   "source": [
    "# Promt"
   ]
  },
  {
   "cell_type": "code",
   "execution_count": 20,
   "id": "71ae12ac-56e0-4c75-a0ce-217dd6be7e2d",
   "metadata": {},
   "outputs": [],
   "source": [
    "def build_prompt(query):\n",
    "    prompt_template = f\"\"\"Role:\n",
    "You are an advanced AI system with exceptional mathematical reasoning and problem-solving capabilities, specifically designed to solve tricky math problems (whose answer is a non-negative integer) written in LaTeX format from the AI Mathematical Olympiad (AIMO) competition. Your task is to accurately analyze and solve intricate mathematical problems, demonstrating a deep understanding of mathematical concepts and a strong ability to apply logical reasoning strategies.\n",
    "\n",
    "Instruction:\n",
    "1. Carefully read and comprehend the problem statement provided in the \"Problem\" section.\n",
    "2. In the \"Solution\" section, provide a solution of the problem with detailed explanation of your logical reasoning process. Keep in mind that answer must be a non-negative integer number.\n",
    "3. At the end, create a \"Answer\" section where you will state only the final numerical or algebraic answer, without any additional text or narrative.\n",
    "\n",
    "Problem:\n",
    "...\n",
    "\n",
    "Solution:\n",
    "...\n",
    "\n",
    "Answer:\n",
    "...\n",
    "\n",
    "{query}\n",
    "\n",
    "Step-by-step solution and final answer:\"\"\"\n",
    "    return prompt_template"
   ]
  },
  {
   "cell_type": "code",
   "execution_count": 21,
   "id": "67669382-207f-4d2c-8e74-c3c269d46d82",
   "metadata": {},
   "outputs": [],
   "source": [
    "promt = build_prompt(query)"
   ]
  },
  {
   "cell_type": "code",
   "execution_count": 22,
   "id": "9a8cdb95-c61a-432b-8134-90d4a1965c64",
   "metadata": {},
   "outputs": [
    {
     "data": {
      "text/latex": [
       "Role:\n",
       "You are an advanced AI system with exceptional mathematical reasoning and problem-solving capabilities, specifically designed to solve tricky math problems (whose answer is a non-negative integer) written in LaTeX format from the AI Mathematical Olympiad (AIMO) competition. Your task is to accurately analyze and solve intricate mathematical problems, demonstrating a deep understanding of mathematical concepts and a strong ability to apply logical reasoning strategies.\n",
       "\n",
       "Instruction:\n",
       "1. Carefully read and comprehend the problem statement provided in the \"Problem\" section.\n",
       "2. In the \"Solution\" section, provide a solution of the problem with detailed explanation of your logical reasoning process. Keep in mind that answer must be a non-negative integer number.\n",
       "3. At the end, create a \"Answer\" section where you will state only the final numerical or algebraic answer, without any additional text or narrative.\n",
       "\n",
       "Problem:\n",
       "...\n",
       "\n",
       "Solution:\n",
       "...\n",
       "\n",
       "Answer:\n",
       "...\n",
       "\n",
       "Find the value of the expression \\(4.8 \\cdot 2.5\\).\n",
       "\n",
       "Step-by-step solution and final answer:"
      ],
      "text/plain": [
       "<IPython.core.display.Latex object>"
      ]
     },
     "execution_count": 22,
     "metadata": {},
     "output_type": "execute_result"
    }
   ],
   "source": [
    "Latex(promt)"
   ]
  },
  {
   "cell_type": "code",
   "execution_count": 23,
   "id": "2fd4d474-53ec-44bd-9642-a35d4437691e",
   "metadata": {},
   "outputs": [],
   "source": [
    "response = client.chat.completions.create(\n",
    "    model='gpt-4o',\n",
    "    messages=[{\"role\": \"user\", \"content\": promt}]\n",
    ")"
   ]
  },
  {
   "cell_type": "code",
   "execution_count": 26,
   "id": "f8804345-84f7-47d8-b1dc-da4255b762a2",
   "metadata": {},
   "outputs": [],
   "source": [
    "answer = response.choices[0].message.content"
   ]
  },
  {
   "cell_type": "code",
   "execution_count": 28,
   "id": "026513f4-ea5e-4b58-b8ac-c4c9cdec112f",
   "metadata": {},
   "outputs": [],
   "source": [
    "def extract_numerical_answer(text):\n",
    "    # Look for patterns like \"Final answer: X\" or \"The answer is X\" at the end of the text\n",
    "    match = re.search(r'(?:final answer|the answer is)[:\\s]*([+-]?\\d*\\.?\\d+)', text, re.IGNORECASE)\n",
    "    if match:\n",
    "        return float(match.group(1))\n",
    "    else:\n",
    "        # If no clear final answer, look for the last number in the text\n",
    "        numbers = re.findall(r'[+-]?\\d*\\.?\\d+', text)\n",
    "        return float(numbers[-1]) if numbers else 1.0"
   ]
  },
  {
   "cell_type": "code",
   "execution_count": 27,
   "id": "5fd8698a-8b09-4242-b74f-d36faff35aba",
   "metadata": {},
   "outputs": [
    {
     "data": {
      "text/latex": [
       "To find the value of the expression \\(4.8 \\cdot 2.5\\), we can follow these steps:\n",
       "\n",
       "1. **Convert to Fraction Form:**\n",
       "   \\(4.8\\) can be written as \\(\\frac{48}{10}\\) and \\(2.5\\) can be written as \\(\\frac{25}{10}\\).\n",
       "\n",
       "2. **Multiply the fractions:**\n",
       "   \\[\n",
       "   \\frac{48}{10} \\cdot \\frac{25}{10} = \\frac{48 \\cdot 25}{10 \\cdot 10} = \\frac{1200}{100}\n",
       "   \\]\n",
       "\n",
       "3. **Simplify the fraction:**\n",
       "   \\[\n",
       "   \\frac{1200}{100} = 12\n",
       "   \\]\n",
       "\n",
       "Thus, the value of the expression \\(4.8 \\cdot 2.5\\) is 12.\n",
       "\n",
       "Answer:\n",
       "12"
      ],
      "text/plain": [
       "<IPython.core.display.Latex object>"
      ]
     },
     "execution_count": 27,
     "metadata": {},
     "output_type": "execute_result"
    }
   ],
   "source": [
    "Latex(answer)"
   ]
  },
  {
   "cell_type": "code",
   "execution_count": 29,
   "id": "71b8a25c-7102-4519-b548-26c32f1f9e28",
   "metadata": {},
   "outputs": [
    {
     "data": {
      "text/plain": [
       "12.0"
      ]
     },
     "execution_count": 29,
     "metadata": {},
     "output_type": "execute_result"
    }
   ],
   "source": [
    "extract_numerical_answer(answer)"
   ]
  },
  {
   "cell_type": "markdown",
   "id": "dda16599-c518-4924-a606-094e05058dba",
   "metadata": {},
   "source": [
    "# Rag"
   ]
  },
  {
   "cell_type": "code",
   "execution_count": 51,
   "id": "5a822d8a-e69c-4320-8dac-35b524408a13",
   "metadata": {},
   "outputs": [],
   "source": [
    "def llm(prompt):\n",
    "    response = client.chat.completions.create(\n",
    "        model='gpt-4o',\n",
    "        messages=[{\"role\": \"user\", \"content\": prompt}]\n",
    "    )\n",
    "    \n",
    "    return response.choices[0].message.content"
   ]
  },
  {
   "cell_type": "code",
   "execution_count": 52,
   "id": "d43ca038-7d81-4cb1-b2b3-9a1cd300d6bb",
   "metadata": {},
   "outputs": [],
   "source": [
    "def rag(query):\n",
    "    prompt = build_prompt(query)\n",
    "    response = llm(prompt)\n",
    "    answer = extract_numerical_answer(response)\n",
    "    return answer, response"
   ]
  },
  {
   "cell_type": "code",
   "execution_count": 53,
   "id": "83c86db0-7591-47d1-aa56-9f84c4da5e56",
   "metadata": {},
   "outputs": [
    {
     "data": {
      "text/latex": [
       "Find the value of the expression $\\dfrac{17}{5} :\\dfrac{34}{3} +1.3$."
      ],
      "text/plain": [
       "<IPython.core.display.Latex object>"
      ]
     },
     "execution_count": 53,
     "metadata": {},
     "output_type": "execute_result"
    }
   ],
   "source": [
    "Latex(query)"
   ]
  },
  {
   "cell_type": "code",
   "execution_count": 54,
   "id": "bf4277d1-edd7-46ee-8233-c8e03f227527",
   "metadata": {},
   "outputs": [],
   "source": [
    "answer, _ = rag(query)"
   ]
  },
  {
   "cell_type": "code",
   "execution_count": null,
   "id": "ec4c91d7-f971-4e8d-89d6-6cdf0135029b",
   "metadata": {},
   "outputs": [],
   "source": [
    "(17/5) / (34/3) + 1.3"
   ]
  },
  {
   "cell_type": "code",
   "execution_count": 55,
   "id": "526b32cc-0eb4-4fc2-9ed1-316df14258dd",
   "metadata": {},
   "outputs": [
    {
     "data": {
      "text/plain": [
       "2.0"
      ]
     },
     "execution_count": 55,
     "metadata": {},
     "output_type": "execute_result"
    }
   ],
   "source": [
    "answer"
   ]
  },
  {
   "cell_type": "code",
   "execution_count": 56,
   "id": "c74515ff-959f-43e2-85b7-870524c97734",
   "metadata": {},
   "outputs": [
    {
     "name": "stderr",
     "output_type": "stream",
     "text": [
      "100%|██████████| 100/100 [13:05<00:00,  7.85s/it]\n"
     ]
    }
   ],
   "source": [
    "answers = []\n",
    "responses = []\n",
    "for row in tqdm(train.to_dict(\"records\")):\n",
    "    query = row[\"problem_text\"]\n",
    "    answer, response = rag(query)\n",
    "    answers.append(answer)\n",
    "    responses.append(response)"
   ]
  },
  {
   "cell_type": "code",
   "execution_count": 86,
   "id": "ffe014aa-3f67-4660-a344-9d3323934575",
   "metadata": {},
   "outputs": [],
   "source": [
    "train[\"predict\"] = answers\n",
    "train[\"response\"] = responses"
   ]
  },
  {
   "cell_type": "markdown",
   "id": "854a68a2-89f1-4707-abeb-298dcacbb4b5",
   "metadata": {},
   "source": [
    "# Metrics"
   ]
  },
  {
   "cell_type": "code",
   "execution_count": 87,
   "id": "c33bee81-4831-497a-a354-87ce5868a616",
   "metadata": {},
   "outputs": [],
   "source": [
    "from sklearn.metrics import accuracy_score"
   ]
  },
  {
   "cell_type": "code",
   "execution_count": 95,
   "id": "9712ffc2-22ab-41ef-bcaf-33303fa5ecaa",
   "metadata": {},
   "outputs": [],
   "source": [
    "def fix_suffix(value):\n",
    "    if value.endswith('.0'):\n",
    "        return value[:-2]\n",
    "    else:\n",
    "        return value"
   ]
  },
  {
   "cell_type": "code",
   "execution_count": 97,
   "id": "d1c43aaf-2c11-4084-853d-d76001c1309e",
   "metadata": {},
   "outputs": [],
   "source": [
    "train[\"predict\"] = train[\"predict\"].astype(str).apply(fix_suffix)"
   ]
  },
  {
   "cell_type": "code",
   "execution_count": 103,
   "id": "f15c5294-1f1c-40e7-96ef-a8ed9d9f7852",
   "metadata": {},
   "outputs": [
    {
     "data": {
      "text/plain": [
       "0.63"
      ]
     },
     "execution_count": 103,
     "metadata": {},
     "output_type": "execute_result"
    }
   ],
   "source": [
    "accuracy_score(train[\"answer\"], train[\"predict\"])"
   ]
  },
  {
   "cell_type": "markdown",
   "id": "62c9cbc0-231b-4388-952a-2455ffa1ceb5",
   "metadata": {},
   "source": [
    "# Test"
   ]
  },
  {
   "cell_type": "code",
   "execution_count": 104,
   "id": "e53ac372-85b3-467d-9670-745bd0acd9f8",
   "metadata": {},
   "outputs": [
    {
     "name": "stderr",
     "output_type": "stream",
     "text": [
      "100%|██████████| 100/100 [11:37<00:00,  6.98s/it]\n"
     ]
    }
   ],
   "source": [
    "answers_test = []\n",
    "responses_test = []\n",
    "for row in tqdm(test.to_dict(\"records\")):\n",
    "    query = row[\"problem_text\"]\n",
    "    answer, response = rag(query)\n",
    "    answers_test.append(answer)\n",
    "    responses_test.append(response)"
   ]
  },
  {
   "cell_type": "code",
   "execution_count": 105,
   "id": "86dcc41f-792f-4283-8252-7d3db80f466e",
   "metadata": {},
   "outputs": [],
   "source": [
    "test[\"predict\"] = answers_test\n",
    "test[\"response\"] = responses_test"
   ]
  },
  {
   "cell_type": "code",
   "execution_count": 106,
   "id": "906d2775-36c8-4df1-9e66-962bddaa3ab8",
   "metadata": {},
   "outputs": [],
   "source": [
    "test[\"predict\"] = test[\"predict\"].astype(str).apply(fix_suffix)"
   ]
  },
  {
   "cell_type": "code",
   "execution_count": 112,
   "id": "7f33e82d-9af8-47e9-aa87-1517e6c83ec0",
   "metadata": {},
   "outputs": [],
   "source": [
    "submission = test.rename(columns={\"predict\": \"answer\"})[\"answer\"].reset_index()"
   ]
  },
  {
   "cell_type": "code",
   "execution_count": 113,
   "id": "8664b00a-443c-462f-8527-7a71befa6fe7",
   "metadata": {},
   "outputs": [
    {
     "data": {
      "text/html": [
       "<div>\n",
       "<style scoped>\n",
       "    .dataframe tbody tr th:only-of-type {\n",
       "        vertical-align: middle;\n",
       "    }\n",
       "\n",
       "    .dataframe tbody tr th {\n",
       "        vertical-align: top;\n",
       "    }\n",
       "\n",
       "    .dataframe thead th {\n",
       "        text-align: right;\n",
       "    }\n",
       "</style>\n",
       "<table border=\"1\" class=\"dataframe\">\n",
       "  <thead>\n",
       "    <tr style=\"text-align: right;\">\n",
       "      <th></th>\n",
       "      <th>problem_id</th>\n",
       "      <th>answer</th>\n",
       "    </tr>\n",
       "  </thead>\n",
       "  <tbody>\n",
       "    <tr>\n",
       "      <th>0</th>\n",
       "      <td>11919</td>\n",
       "      <td>12</td>\n",
       "    </tr>\n",
       "    <tr>\n",
       "      <th>1</th>\n",
       "      <td>8513</td>\n",
       "      <td>11285</td>\n",
       "    </tr>\n",
       "    <tr>\n",
       "      <th>2</th>\n",
       "      <td>7887</td>\n",
       "      <td>4</td>\n",
       "    </tr>\n",
       "    <tr>\n",
       "      <th>3</th>\n",
       "      <td>5272</td>\n",
       "      <td>6</td>\n",
       "    </tr>\n",
       "    <tr>\n",
       "      <th>4</th>\n",
       "      <td>8295</td>\n",
       "      <td>13</td>\n",
       "    </tr>\n",
       "    <tr>\n",
       "      <th>...</th>\n",
       "      <td>...</td>\n",
       "      <td>...</td>\n",
       "    </tr>\n",
       "    <tr>\n",
       "      <th>95</th>\n",
       "      <td>3519</td>\n",
       "      <td>134</td>\n",
       "    </tr>\n",
       "    <tr>\n",
       "      <th>96</th>\n",
       "      <td>7934</td>\n",
       "      <td>12</td>\n",
       "    </tr>\n",
       "    <tr>\n",
       "      <th>97</th>\n",
       "      <td>9390</td>\n",
       "      <td>217000</td>\n",
       "    </tr>\n",
       "    <tr>\n",
       "      <th>98</th>\n",
       "      <td>7137</td>\n",
       "      <td>22</td>\n",
       "    </tr>\n",
       "    <tr>\n",
       "      <th>99</th>\n",
       "      <td>5914</td>\n",
       "      <td>300</td>\n",
       "    </tr>\n",
       "  </tbody>\n",
       "</table>\n",
       "<p>100 rows × 2 columns</p>\n",
       "</div>"
      ],
      "text/plain": [
       "    problem_id  answer\n",
       "0        11919      12\n",
       "1         8513   11285\n",
       "2         7887       4\n",
       "3         5272       6\n",
       "4         8295      13\n",
       "..         ...     ...\n",
       "95        3519     134\n",
       "96        7934      12\n",
       "97        9390  217000\n",
       "98        7137      22\n",
       "99        5914     300\n",
       "\n",
       "[100 rows x 2 columns]"
      ]
     },
     "execution_count": 113,
     "metadata": {},
     "output_type": "execute_result"
    }
   ],
   "source": [
    "submission"
   ]
  },
  {
   "cell_type": "code",
   "execution_count": 114,
   "id": "91818bcf-7325-493f-abe6-7f89544243d4",
   "metadata": {},
   "outputs": [],
   "source": [
    "submission.to_csv(\"result/baseline.csv\", index=False)"
   ]
  }
 ],
 "metadata": {
  "kernelspec": {
   "display_name": "Python 3 (ipykernel)",
   "language": "python",
   "name": "python3"
  },
  "language_info": {
   "codemirror_mode": {
    "name": "ipython",
    "version": 3
   },
   "file_extension": ".py",
   "mimetype": "text/x-python",
   "name": "python",
   "nbconvert_exporter": "python",
   "pygments_lexer": "ipython3",
   "version": "3.12.4"
  }
 },
 "nbformat": 4,
 "nbformat_minor": 5
}
