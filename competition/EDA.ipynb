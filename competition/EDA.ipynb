{
 "cells": [
  {
   "cell_type": "code",
   "execution_count": 1,
   "id": "b9a20e3e-1c19-4fe8-995f-3bc8a322b275",
   "metadata": {},
   "outputs": [],
   "source": [
    "import os\n",
    "import pandas as pd\n",
    "\n",
    "from IPython.display import Latex"
   ]
  },
  {
   "cell_type": "code",
   "execution_count": 2,
   "id": "fac0e284-0a6e-47b5-80e0-3ecca16a79ac",
   "metadata": {},
   "outputs": [],
   "source": [
    "DATAPATH = \"data\""
   ]
  },
  {
   "cell_type": "markdown",
   "id": "d2723787-6e8e-49c1-bc85-483ecd7b09e5",
   "metadata": {},
   "source": [
    "# Data"
   ]
  },
  {
   "cell_type": "code",
   "execution_count": 3,
   "id": "e3d542cd-10d4-47d5-bf83-9c5ea7421e9c",
   "metadata": {},
   "outputs": [],
   "source": [
    "train = pd.read_csv(os.path.join(DATAPATH, \"raw/train.csv\"), index_col=\"problem_id\")\n",
    "test = pd.read_csv(os.path.join(DATAPATH, \"raw/test.csv\"), index_col=\"problem_id\")"
   ]
  },
  {
   "cell_type": "code",
   "execution_count": 4,
   "id": "3143820d-c9b0-4a88-9743-96ac2c8cf6c5",
   "metadata": {},
   "outputs": [
    {
     "data": {
      "text/html": [
       "<div>\n",
       "<style scoped>\n",
       "    .dataframe tbody tr th:only-of-type {\n",
       "        vertical-align: middle;\n",
       "    }\n",
       "\n",
       "    .dataframe tbody tr th {\n",
       "        vertical-align: top;\n",
       "    }\n",
       "\n",
       "    .dataframe thead th {\n",
       "        text-align: right;\n",
       "    }\n",
       "</style>\n",
       "<table border=\"1\" class=\"dataframe\">\n",
       "  <thead>\n",
       "    <tr style=\"text-align: right;\">\n",
       "      <th></th>\n",
       "      <th>problem_text</th>\n",
       "      <th>answer</th>\n",
       "    </tr>\n",
       "    <tr>\n",
       "      <th>problem_id</th>\n",
       "      <th></th>\n",
       "      <th></th>\n",
       "    </tr>\n",
       "  </thead>\n",
       "  <tbody>\n",
       "    <tr>\n",
       "      <th>2374</th>\n",
       "      <td>Find the value of the expression $\\dfrac{17}{5...</td>\n",
       "      <td>1.6</td>\n",
       "    </tr>\n",
       "    <tr>\n",
       "      <th>4723</th>\n",
       "      <td>In a company of 30 people, 25 use the social n...</td>\n",
       "      <td>24</td>\n",
       "    </tr>\n",
       "    <tr>\n",
       "      <th>7135</th>\n",
       "      <td>The number of road traffic accidents (RTAs) in...</td>\n",
       "      <td>32</td>\n",
       "    </tr>\n",
       "    <tr>\n",
       "      <th>5814</th>\n",
       "      <td>Find the value of the expression $\\dfrac{2\\str...</td>\n",
       "      <td>256</td>\n",
       "    </tr>\n",
       "    <tr>\n",
       "      <th>9237</th>\n",
       "      <td>A traveler from Moscow wants to visit four cit...</td>\n",
       "      <td>53</td>\n",
       "    </tr>\n",
       "  </tbody>\n",
       "</table>\n",
       "</div>"
      ],
      "text/plain": [
       "                                                 problem_text answer\n",
       "problem_id                                                          \n",
       "2374        Find the value of the expression $\\dfrac{17}{5...    1.6\n",
       "4723        In a company of 30 people, 25 use the social n...     24\n",
       "7135        The number of road traffic accidents (RTAs) in...     32\n",
       "5814        Find the value of the expression $\\dfrac{2\\str...    256\n",
       "9237        A traveler from Moscow wants to visit four cit...     53"
      ]
     },
     "execution_count": 4,
     "metadata": {},
     "output_type": "execute_result"
    }
   ],
   "source": [
    "train.head(5)"
   ]
  },
  {
   "cell_type": "code",
   "execution_count": 5,
   "id": "df8401a9-9161-4ed6-bc92-83a2ea0330f2",
   "metadata": {},
   "outputs": [
    {
     "data": {
      "text/plain": [
       "(100, 2)"
      ]
     },
     "execution_count": 5,
     "metadata": {},
     "output_type": "execute_result"
    }
   ],
   "source": [
    "train.shape"
   ]
  },
  {
   "cell_type": "code",
   "execution_count": 6,
   "id": "d3278cb2-b35f-4a99-96ba-6282f8b0cc0c",
   "metadata": {},
   "outputs": [
    {
     "data": {
      "text/html": [
       "<div>\n",
       "<style scoped>\n",
       "    .dataframe tbody tr th:only-of-type {\n",
       "        vertical-align: middle;\n",
       "    }\n",
       "\n",
       "    .dataframe tbody tr th {\n",
       "        vertical-align: top;\n",
       "    }\n",
       "\n",
       "    .dataframe thead th {\n",
       "        text-align: right;\n",
       "    }\n",
       "</style>\n",
       "<table border=\"1\" class=\"dataframe\">\n",
       "  <thead>\n",
       "    <tr style=\"text-align: right;\">\n",
       "      <th></th>\n",
       "      <th>problem_text</th>\n",
       "    </tr>\n",
       "    <tr>\n",
       "      <th>problem_id</th>\n",
       "      <th></th>\n",
       "    </tr>\n",
       "  </thead>\n",
       "  <tbody>\n",
       "    <tr>\n",
       "      <th>11919</th>\n",
       "      <td>Find the value of the expression \\(4.8 \\cdot 2...</td>\n",
       "    </tr>\n",
       "    <tr>\n",
       "      <th>8513</th>\n",
       "      <td>The plane's navigation system informs the pass...</td>\n",
       "    </tr>\n",
       "    <tr>\n",
       "      <th>7887</th>\n",
       "      <td>The volume of a rectangular parallelepiped is ...</td>\n",
       "    </tr>\n",
       "    <tr>\n",
       "      <th>5272</th>\n",
       "      <td>Find the root of the equation: $\\left(\\dfrac{1...</td>\n",
       "    </tr>\n",
       "    <tr>\n",
       "      <th>8295</th>\n",
       "      <td>At the school, there are two-person camping te...</td>\n",
       "    </tr>\n",
       "  </tbody>\n",
       "</table>\n",
       "</div>"
      ],
      "text/plain": [
       "                                                 problem_text\n",
       "problem_id                                                   \n",
       "11919       Find the value of the expression \\(4.8 \\cdot 2...\n",
       "8513        The plane's navigation system informs the pass...\n",
       "7887        The volume of a rectangular parallelepiped is ...\n",
       "5272        Find the root of the equation: $\\left(\\dfrac{1...\n",
       "8295        At the school, there are two-person camping te..."
      ]
     },
     "execution_count": 6,
     "metadata": {},
     "output_type": "execute_result"
    }
   ],
   "source": [
    "test.head(5)"
   ]
  },
  {
   "cell_type": "code",
   "execution_count": 7,
   "id": "f6524f42-afab-4ea5-a0ae-3aa0bb1aee15",
   "metadata": {},
   "outputs": [
    {
     "data": {
      "text/plain": [
       "(100, 1)"
      ]
     },
     "execution_count": 7,
     "metadata": {},
     "output_type": "execute_result"
    }
   ],
   "source": [
    "test.shape"
   ]
  },
  {
   "cell_type": "markdown",
   "id": "9a5a145b-17c3-4581-83be-e90d062f8f4f",
   "metadata": {},
   "source": [
    "# Errors"
   ]
  },
  {
   "cell_type": "code",
   "execution_count": 8,
   "id": "4f972ca5-ab2c-40ed-8016-11e44d5280b5",
   "metadata": {},
   "outputs": [
    {
     "data": {
      "text/plain": [
       "problem_text    A tourist who has arrived in Saint Petersburg ...\n",
       "answer                                                       2250\n",
       "Name: 9294, dtype: object"
      ]
     },
     "execution_count": 8,
     "metadata": {},
     "output_type": "execute_result"
    }
   ],
   "source": [
    "train.loc[9294]"
   ]
  },
  {
   "cell_type": "code",
   "execution_count": 9,
   "id": "26426be2-40b0-4f4a-87a3-82aea489e42c",
   "metadata": {},
   "outputs": [
    {
     "data": {
      "text/plain": [
       "\"A tourist who has arrived in Saint Petersburg wants to visit 4 museums: the Hermitage, the Russian Museum, the Peter and Paul Fortress, and St. Isaac's Cathedral. The excursion ticket offices offer routes that include visits to one or more sites. Information about ticket prices and routes is presented in the table.\\n\\n\\\\begin{center}\\n\\\\begin{tabular}{|c|c|c|}\\n\\\\hline\\nRoute Number & Visited Sites & Cost (RUB) \\\\\\\\\\\\hline\\n1 & Hermitage & 300 \\\\\\\\\\\\hline\\n2 & Peter and Paul Fortress, St. Isaac's Cathedral & 1350 \\\\\\\\\\\\hline\\n3 & St. Isaac's Cathedral & 300 \\\\\\\\\\\\hline\\n4 & Hermitage, Russian Museum & 1400 \\\\\\\\\\\\hline\\n5 & Peter and Paul Fortress, Russian Museum & 1650 \\\\\\\\\\\\hline\\n6 & Russian Museum & 650 \\\\\\\\\\\\hline\\n\\\\end{tabular}\\n\\\\end{center}\\n\\nWhich routes should the traveler choose to visit all four museums while spending the least amount of money on tickets?\\n\\nIn the answer, indicate any one set of route numbers without spaces, commas, or other additional symbols.\""
      ]
     },
     "execution_count": 9,
     "metadata": {},
     "output_type": "execute_result"
    }
   ],
   "source": [
    "train.loc[9294][\"problem_text\"]"
   ]
  },
  {
   "cell_type": "code",
   "execution_count": 10,
   "id": "a0c195c9-51fe-4146-896f-493cdd03a183",
   "metadata": {},
   "outputs": [
    {
     "data": {
      "text/latex": [
       "A tourist who has arrived in Saint Petersburg wants to visit 4 museums: the Hermitage, the Russian Museum, the Peter and Paul Fortress, and St. Isaac's Cathedral. The excursion ticket offices offer routes that include visits to one or more sites. Information about ticket prices and routes is presented in the table.\n",
       "\n",
       "\\begin{center}\n",
       "\\begin{tabular}{|c|c|c|}\n",
       "\\hline\n",
       "Route Number & Visited Sites & Cost (RUB) \\\\\\hline\n",
       "1 & Hermitage & 300 \\\\\\hline\n",
       "2 & Peter and Paul Fortress, St. Isaac's Cathedral & 1350 \\\\\\hline\n",
       "3 & St. Isaac's Cathedral & 300 \\\\\\hline\n",
       "4 & Hermitage, Russian Museum & 1400 \\\\\\hline\n",
       "5 & Peter and Paul Fortress, Russian Museum & 1650 \\\\\\hline\n",
       "6 & Russian Museum & 650 \\\\\\hline\n",
       "\\end{tabular}\n",
       "\\end{center}\n",
       "\n",
       "Which routes should the traveler choose to visit all four museums while spending the least amount of money on tickets?\n",
       "\n",
       "In the answer, indicate any one set of route numbers without spaces, commas, or other additional symbols."
      ],
      "text/plain": [
       "<IPython.core.display.Latex object>"
      ]
     },
     "execution_count": 10,
     "metadata": {},
     "output_type": "execute_result"
    }
   ],
   "source": [
    "Latex(train.loc[9294][\"problem_text\"])"
   ]
  },
  {
   "cell_type": "code",
   "execution_count": null,
   "id": "f7547a45-86f7-45fc-88e5-8aac1b99d48d",
   "metadata": {},
   "outputs": [],
   "source": []
  }
 ],
 "metadata": {
  "kernelspec": {
   "display_name": "Python 3 (ipykernel)",
   "language": "python",
   "name": "python3"
  },
  "language_info": {
   "codemirror_mode": {
    "name": "ipython",
    "version": 3
   },
   "file_extension": ".py",
   "mimetype": "text/x-python",
   "name": "python",
   "nbconvert_exporter": "python",
   "pygments_lexer": "ipython3",
   "version": "3.12.4"
  }
 },
 "nbformat": 4,
 "nbformat_minor": 5
}
