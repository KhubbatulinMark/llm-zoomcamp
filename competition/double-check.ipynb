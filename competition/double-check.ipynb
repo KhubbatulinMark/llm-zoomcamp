{
 "cells": [
  {
   "cell_type": "code",
   "execution_count": 1,
   "id": "3cf933ca-8b82-4778-9f43-90d6ba6a36cb",
   "metadata": {},
   "outputs": [],
   "source": [
    "import os \n",
    "import re\n",
    "\n",
    "import pandas as pd\n",
    "from tqdm import tqdm\n",
    "from IPython.display import Latex"
   ]
  },
  {
   "cell_type": "code",
   "execution_count": 2,
   "id": "372c90a3-2726-4d6b-b3aa-0082645da1bf",
   "metadata": {},
   "outputs": [],
   "source": [
    "DATAPATH = \"data\""
   ]
  },
  {
   "cell_type": "markdown",
   "id": "edb832d1-eb79-4781-9283-5be1b60d1639",
   "metadata": {},
   "source": [
    "# Data"
   ]
  },
  {
   "cell_type": "code",
   "execution_count": 3,
   "id": "c11a3425-c812-492e-b2f2-a2b6ead2394d",
   "metadata": {},
   "outputs": [],
   "source": [
    "train = pd.read_csv(os.path.join(DATAPATH, \"raw/train.csv\"), index_col=\"problem_id\")\n",
    "test = pd.read_csv(os.path.join(DATAPATH, \"raw/test.csv\"), index_col=\"problem_id\")\n",
    "submission = pd.read_csv(os.path.join(DATAPATH, \"raw/sample_submission.csv\"))"
   ]
  },
  {
   "cell_type": "code",
   "execution_count": 4,
   "id": "f12069be-0a63-43e5-be18-37b50fe5dc0a",
   "metadata": {},
   "outputs": [
    {
     "data": {
      "text/plain": [
       "{'problem_text': 'Find the value of the expression $\\\\dfrac{17}{5} :\\\\dfrac{34}{3} +1.3$.',\n",
       " 'answer': '1.6'}"
      ]
     },
     "execution_count": 4,
     "metadata": {},
     "output_type": "execute_result"
    }
   ],
   "source": [
    "train.to_dict(\"records\")[0]"
   ]
  },
  {
   "cell_type": "markdown",
   "id": "c999bfdf-519c-4b32-86e5-453e778c4751",
   "metadata": {},
   "source": [
    "# Query"
   ]
  },
  {
   "cell_type": "code",
   "execution_count": 5,
   "id": "9d59b5ee-ee3d-4288-9420-34e6a78c7d5a",
   "metadata": {},
   "outputs": [],
   "source": [
    "query = train.iloc[0][\"problem_text\"]\n",
    "answer = train.iloc[0][\"answer\"]"
   ]
  },
  {
   "cell_type": "code",
   "execution_count": 6,
   "id": "5f9bf940-12f7-4b17-9ec2-86ace72e1303",
   "metadata": {},
   "outputs": [
    {
     "data": {
      "text/latex": [
       "Find the value of the expression $\\dfrac{17}{5} :\\dfrac{34}{3} +1.3$."
      ],
      "text/plain": [
       "<IPython.core.display.Latex object>"
      ]
     },
     "execution_count": 6,
     "metadata": {},
     "output_type": "execute_result"
    }
   ],
   "source": [
    "Latex(query)"
   ]
  },
  {
   "cell_type": "code",
   "execution_count": 7,
   "id": "6f1455b7-2a1a-4408-aea7-46766eb0790f",
   "metadata": {},
   "outputs": [
    {
     "data": {
      "text/plain": [
       "'1.6'"
      ]
     },
     "execution_count": 7,
     "metadata": {},
     "output_type": "execute_result"
    }
   ],
   "source": [
    "answer"
   ]
  },
  {
   "cell_type": "code",
   "execution_count": 8,
   "id": "01d7a87c-ca23-46e2-8e14-5f6a02694c3d",
   "metadata": {},
   "outputs": [],
   "source": [
    "query = test.iloc[0][\"problem_text\"]"
   ]
  },
  {
   "cell_type": "code",
   "execution_count": 9,
   "id": "86f2ba33-bd86-4f8f-8ea2-8f0d465e1aea",
   "metadata": {},
   "outputs": [
    {
     "data": {
      "text/latex": [
       "Find the value of the expression \\(4.8 \\cdot 2.5\\)."
      ],
      "text/plain": [
       "<IPython.core.display.Latex object>"
      ]
     },
     "execution_count": 9,
     "metadata": {},
     "output_type": "execute_result"
    }
   ],
   "source": [
    "Latex(query)"
   ]
  },
  {
   "cell_type": "markdown",
   "id": "6d536f43-f880-41d8-a620-c188d7cc44db",
   "metadata": {},
   "source": [
    "# LLM"
   ]
  },
  {
   "cell_type": "code",
   "execution_count": 10,
   "id": "d4aea34d-b03a-482c-91ed-356e51824c2b",
   "metadata": {},
   "outputs": [],
   "source": [
    "from openai import OpenAI"
   ]
  },
  {
   "cell_type": "code",
   "execution_count": 11,
   "id": "0cdd6b27-41c8-44d1-9019-b5b9735d5038",
   "metadata": {},
   "outputs": [],
   "source": [
    "client = OpenAI(api_key=os.environ[\"OPENAI_KEY\"])"
   ]
  },
  {
   "cell_type": "code",
   "execution_count": 12,
   "id": "67350e7f-fca7-48d7-a629-f05bf76d760e",
   "metadata": {},
   "outputs": [],
   "source": [
    "response = client.chat.completions.create(\n",
    "    model='gpt-4o-mini',\n",
    "    messages=[{\"role\": \"user\", \"content\": query}]\n",
    ")"
   ]
  },
  {
   "cell_type": "code",
   "execution_count": 13,
   "id": "b1c8ecd3-4dbe-483f-b595-fb7f910e60ad",
   "metadata": {},
   "outputs": [
    {
     "data": {
      "text/latex": [
       "To calculate the value of the expression \\(4.8 \\cdot 2.5\\), we can perform the multiplication directly. \n",
       "\n",
       "First, let's rewrite the numbers to avoid decimals:\n",
       "\n",
       "\\[\n",
       "4.8 = \\frac{48}{10} \\quad \\text{and} \\quad 2.5 = \\frac{25}{10}.\n",
       "\\]\n",
       "\n",
       "Thus, we can rewrite the multiplication as:\n",
       "\n",
       "\\[\n",
       "4.8 \\cdot 2.5 = \\left(\\frac{48}{10}\\right) \\cdot \\left(\\frac{25}{10}\\right) = \\frac{48 \\cdot 25}{100}.\n",
       "\\]\n",
       "\n",
       "Now, we compute \\(48 \\cdot 25\\). One way to do this is to use a known multiplication trick that relates to doubling and halving:\n",
       "\n",
       "\\[\n",
       "48 \\cdot 25 = 48 \\cdot (20 + 5) = 48 \\cdot 20 + 48 \\cdot 5.\n",
       "\\]\n",
       "\n",
       "Calculating each term:\n",
       "\n",
       "\\[\n",
       "48 \\cdot 20 = 960,\n",
       "\\]\n",
       "\n",
       "\\[\n",
       "48 \\cdot 5 = 240.\n",
       "\\]\n",
       "\n",
       "Adding these results gives:\n",
       "\n",
       "\\[\n",
       "960 + 240 = 1200.\n",
       "\\]\n",
       "\n",
       "Now we can substitute back into our fraction:\n",
       "\n",
       "\\[\n",
       "4.8 \\cdot 2.5 = \\frac{1200}{100} = 12.\n",
       "\\]\n",
       "\n",
       "Thus, the value of the expression \\(4.8 \\cdot 2.5\\) is \n",
       "\n",
       "\\[\n",
       "\\boxed{12}.\n",
       "\\]"
      ],
      "text/plain": [
       "<IPython.core.display.Latex object>"
      ]
     },
     "execution_count": 13,
     "metadata": {},
     "output_type": "execute_result"
    }
   ],
   "source": [
    "Latex(response.choices[0].message.content)"
   ]
  },
  {
   "cell_type": "code",
   "execution_count": 14,
   "id": "544e37d2-c9b7-4053-9c77-8f4afd8d63c8",
   "metadata": {},
   "outputs": [
    {
     "data": {
      "text/plain": [
       "12.0"
      ]
     },
     "execution_count": 14,
     "metadata": {},
     "output_type": "execute_result"
    }
   ],
   "source": [
    "4.8 * 2.5"
   ]
  },
  {
   "cell_type": "markdown",
   "id": "30ccdac5-ff42-4d9c-ba56-838beb79ff69",
   "metadata": {},
   "source": [
    "# Promt"
   ]
  },
  {
   "cell_type": "code",
   "execution_count": 15,
   "id": "1d310d9f-3fd9-4f74-9529-b711b503e19d",
   "metadata": {},
   "outputs": [],
   "source": [
    "def extract_numerical_answer(text):\n",
    "    # Look for patterns like \"Final answer: X\" or \"The answer is X\" at the end of the text\n",
    "    match = re.search(r'(?:final answer|the answer is)[:\\s]*([+-]?\\d*\\.?\\d+)', text, re.IGNORECASE)\n",
    "    if match:\n",
    "        return float(match.group(1))\n",
    "    else:\n",
    "        # If no clear final answer, look for the last number in the text\n",
    "        numbers = re.findall(r'[+-]?\\d*\\.?\\d+', text)\n",
    "        return float(numbers[-1]) if numbers else 1.0"
   ]
  },
  {
   "cell_type": "code",
   "execution_count": 16,
   "id": "32b42074-d569-4ce0-b8b9-1499f0f69518",
   "metadata": {},
   "outputs": [],
   "source": [
    "def build_prompt_stage_1(query):\n",
    "    prompt_template = f\"\"\"Role:\n",
    "You are an advanced AI system with exceptional mathematical reasoning and problem-solving capabilities, specifically designed to solve tricky math problems (whose answer is a non-negative integer) written in LaTeX format from the AI Mathematical Olympiad (AIMO) competition. Your task is to accurately analyze and solve intricate mathematical problems, demonstrating a deep understanding of mathematical concepts and a strong ability to apply logical reasoning strategies.\n",
    "\n",
    "Instruction:\n",
    "1. Carefully read and comprehend the problem statement provided in the \"Problem\" section.\n",
    "2. In the \"Solution\" section, provide a solution of the problem with detailed explanation of your logical reasoning process. Keep in mind that answer must be a non-negative integer number.\n",
    "3. At the end, create a \"Answer\" section where you will state only the final numerical or algebraic answer, without any additional text or narrative.\n",
    "\n",
    "Problem:\n",
    "...\n",
    "\n",
    "Solution:\n",
    "...\n",
    "\n",
    "Answer:\n",
    "...\n",
    "\n",
    "{query}\n",
    "\n",
    "Step-by-step solution and final answer:\"\"\"\n",
    "    return prompt_template"
   ]
  },
  {
   "cell_type": "code",
   "execution_count": 17,
   "id": "67669382-207f-4d2c-8e74-c3c269d46d82",
   "metadata": {},
   "outputs": [],
   "source": [
    "prompt_stage_1 = build_prompt_stage_1(query)"
   ]
  },
  {
   "cell_type": "code",
   "execution_count": 18,
   "id": "9a8cdb95-c61a-432b-8134-90d4a1965c64",
   "metadata": {},
   "outputs": [
    {
     "data": {
      "text/latex": [
       "Role:\n",
       "You are an advanced AI system with exceptional mathematical reasoning and problem-solving capabilities, specifically designed to solve tricky math problems (whose answer is a non-negative integer) written in LaTeX format from the AI Mathematical Olympiad (AIMO) competition. Your task is to accurately analyze and solve intricate mathematical problems, demonstrating a deep understanding of mathematical concepts and a strong ability to apply logical reasoning strategies.\n",
       "\n",
       "Instruction:\n",
       "1. Carefully read and comprehend the problem statement provided in the \"Problem\" section.\n",
       "2. In the \"Solution\" section, provide a solution of the problem with detailed explanation of your logical reasoning process. Keep in mind that answer must be a non-negative integer number.\n",
       "3. At the end, create a \"Answer\" section where you will state only the final numerical or algebraic answer, without any additional text or narrative.\n",
       "\n",
       "Problem:\n",
       "...\n",
       "\n",
       "Solution:\n",
       "...\n",
       "\n",
       "Answer:\n",
       "...\n",
       "\n",
       "Find the value of the expression \\(4.8 \\cdot 2.5\\).\n",
       "\n",
       "Step-by-step solution and final answer:"
      ],
      "text/plain": [
       "<IPython.core.display.Latex object>"
      ]
     },
     "execution_count": 18,
     "metadata": {},
     "output_type": "execute_result"
    }
   ],
   "source": [
    "Latex(prompt_stage_1)"
   ]
  },
  {
   "cell_type": "code",
   "execution_count": 21,
   "id": "2fd4d474-53ec-44bd-9642-a35d4437691e",
   "metadata": {},
   "outputs": [],
   "source": [
    "response = client.chat.completions.create(\n",
    "    model='gpt-4o-mini',\n",
    "    messages=[{\"role\": \"user\", \"content\": prompt_stage_1}]\n",
    ")"
   ]
  },
  {
   "cell_type": "code",
   "execution_count": 22,
   "id": "f8804345-84f7-47d8-b1dc-da4255b762a2",
   "metadata": {},
   "outputs": [],
   "source": [
    "answer = response.choices[0].message.content"
   ]
  },
  {
   "cell_type": "code",
   "execution_count": 23,
   "id": "5fd8698a-8b09-4242-b74f-d36faff35aba",
   "metadata": {},
   "outputs": [
    {
     "data": {
      "text/latex": [
       "Problem:\n",
       "Find the value of the expression \\(4.8 \\cdot 2.5\\).\n",
       "\n",
       "Solution:\n",
       "To solve the expression \\(4.8 \\cdot 2.5\\), we can break the multiplication down into simpler components.\n",
       "\n",
       "1. First, let's convert the decimal numbers into whole numbers by multiplying both numbers by 10:\n",
       "   \\[\n",
       "   4.8 \\cdot 2.5 = \\frac{48}{10} \\cdot \\frac{25}{10}\n",
       "   \\]\n",
       "\n",
       "2. Simplifying the expression gives:\n",
       "   \\[\n",
       "   = \\frac{48 \\cdot 25}{100}\n",
       "   \\]\n",
       "\n",
       "3. Next, we calculate \\(48 \\cdot 25\\). We can do this by breaking it down further:\n",
       "   \\[\n",
       "   48 \\cdot 25 = 48 \\cdot (20 + 5) = 48 \\cdot 20 + 48 \\cdot 5\n",
       "   \\]\n",
       "\n",
       "4. Calculating each part:\n",
       "   \\[\n",
       "   48 \\cdot 20 = 960\n",
       "   \\]\n",
       "   \\[\n",
       "   48 \\cdot 5 = 240\n",
       "   \\]\n",
       "   Therefore,\n",
       "   \\[\n",
       "   48 \\cdot 25 = 960 + 240 = 1200\n",
       "   \\]\n",
       "\n",
       "5. Now, substituting this back into our fraction gives:\n",
       "   \\[\n",
       "   = \\frac{1200}{100} = 12\n",
       "   \\]\n",
       "\n",
       "Thus, the value of the expression \\(4.8 \\cdot 2.5\\) is \\(12\\).\n",
       "\n",
       "Answer:\n",
       "12"
      ],
      "text/plain": [
       "<IPython.core.display.Latex object>"
      ]
     },
     "execution_count": 23,
     "metadata": {},
     "output_type": "execute_result"
    }
   ],
   "source": [
    "Latex(answer)"
   ]
  },
  {
   "cell_type": "code",
   "execution_count": 26,
   "id": "0bcf7dbb-e3e4-42f0-b41c-9399c3ac1e7e",
   "metadata": {},
   "outputs": [],
   "source": [
    "def build_prompt_stage_2(query, solution):\n",
    "    prompt_template = f\"\"\" Please analyze the solution for a given problem, fix it if needed, and then provide the final answer.         \n",
    "Your response should end in the format: 'Hence, the final answer is [numeric string].\n",
    "    \n",
    "Q: {query}\n",
    "\n",
    "Solution: {solution}\n",
    "\n",
    "Analysis: \n",
    "\n",
    "    \"\"\"\n",
    "    return prompt_template"
   ]
  },
  {
   "cell_type": "code",
   "execution_count": 27,
   "id": "418953cf-de24-4ee5-88c9-e97abbb610b5",
   "metadata": {},
   "outputs": [],
   "source": [
    "prompt_stage_2 = build_prompt_stage_2(query, answer)"
   ]
  },
  {
   "cell_type": "code",
   "execution_count": 28,
   "id": "add0e3c3-03ba-4db9-96b0-effd7f88de68",
   "metadata": {},
   "outputs": [
    {
     "data": {
      "text/latex": [
       " Please analyze the solution for a given problem, fix it if needed, and then provide the final answer.         \n",
       "Your response should end in the format: 'Hence, the final answer is [numeric string].\n",
       "    \n",
       "Q: Find the value of the expression \\(4.8 \\cdot 2.5\\).\n",
       "\n",
       "Solution: Problem:\n",
       "Find the value of the expression \\(4.8 \\cdot 2.5\\).\n",
       "\n",
       "Solution:\n",
       "To solve the expression \\(4.8 \\cdot 2.5\\), we can break the multiplication down into simpler components.\n",
       "\n",
       "1. First, let's convert the decimal numbers into whole numbers by multiplying both numbers by 10:\n",
       "   \\[\n",
       "   4.8 \\cdot 2.5 = \\frac{48}{10} \\cdot \\frac{25}{10}\n",
       "   \\]\n",
       "\n",
       "2. Simplifying the expression gives:\n",
       "   \\[\n",
       "   = \\frac{48 \\cdot 25}{100}\n",
       "   \\]\n",
       "\n",
       "3. Next, we calculate \\(48 \\cdot 25\\). We can do this by breaking it down further:\n",
       "   \\[\n",
       "   48 \\cdot 25 = 48 \\cdot (20 + 5) = 48 \\cdot 20 + 48 \\cdot 5\n",
       "   \\]\n",
       "\n",
       "4. Calculating each part:\n",
       "   \\[\n",
       "   48 \\cdot 20 = 960\n",
       "   \\]\n",
       "   \\[\n",
       "   48 \\cdot 5 = 240\n",
       "   \\]\n",
       "   Therefore,\n",
       "   \\[\n",
       "   48 \\cdot 25 = 960 + 240 = 1200\n",
       "   \\]\n",
       "\n",
       "5. Now, substituting this back into our fraction gives:\n",
       "   \\[\n",
       "   = \\frac{1200}{100} = 12\n",
       "   \\]\n",
       "\n",
       "Thus, the value of the expression \\(4.8 \\cdot 2.5\\) is \\(12\\).\n",
       "\n",
       "Answer:\n",
       "12\n",
       "\n",
       "Analysis: \n",
       "\n",
       "    "
      ],
      "text/plain": [
       "<IPython.core.display.Latex object>"
      ]
     },
     "execution_count": 28,
     "metadata": {},
     "output_type": "execute_result"
    }
   ],
   "source": [
    "Latex(prompt_stage_2)"
   ]
  },
  {
   "cell_type": "code",
   "execution_count": 30,
   "id": "60ef4157-954b-46ff-b39c-12372c49f8e1",
   "metadata": {},
   "outputs": [],
   "source": [
    "response_stage_2 = client.chat.completions.create(\n",
    "    model='gpt-4o-mini',\n",
    "    messages=[{\"role\": \"user\", \"content\": prompt_stage_2}]\n",
    ")"
   ]
  },
  {
   "cell_type": "code",
   "execution_count": 32,
   "id": "56a5bd0e-b9c6-46bb-a7c0-6802c46d3360",
   "metadata": {},
   "outputs": [],
   "source": [
    "answer = response_stage_2.choices[0].message.content"
   ]
  },
  {
   "cell_type": "code",
   "execution_count": 33,
   "id": "084ca25a-6876-44d9-ba82-7369c10011ea",
   "metadata": {},
   "outputs": [
    {
     "data": {
      "text/latex": [
       "Let's analyze the solution step by step to ensure that every part of the multiplication is correct.\n",
       "\n",
       "1. The original expression is \\(4.8 \\cdot 2.5\\).\n",
       "\n",
       "2. The conversion to whole numbers by multiplying both numbers by 10 is correct:\n",
       "   \\[\n",
       "   4.8 \\cdot 2.5 = \\frac{48}{10} \\cdot \\frac{25}{10}\n",
       "   \\]\n",
       "   Simplifying gives:\n",
       "   \\[\n",
       "   = \\frac{48 \\cdot 25}{100}\n",
       "   \\]\n",
       "\n",
       "3. Next, we calculate \\(48 \\cdot 25\\):\n",
       "   - \\(48 \\cdot 25 = 48 \\cdot (20 + 5) = 48 \\cdot 20 + 48 \\cdot 5\\).\n",
       "\n",
       "4. The calculations for \\(48 \\cdot 20\\) and \\(48 \\cdot 5\\) are:\n",
       "   \\[\n",
       "   48 \\cdot 20 = 960\n",
       "   \\]\n",
       "   \\[\n",
       "   48 \\cdot 5 = 240\n",
       "   \\]\n",
       "   Adding them gives:\n",
       "   \\[\n",
       "   48 \\cdot 25 = 960 + 240 = 1200\n",
       "   \\]\n",
       "\n",
       "5. Substituting this back gives:\n",
       "   \\[\n",
       "   = \\frac{1200}{100} = 12\n",
       "   \\]\n",
       "\n",
       "Since all steps and calculations are correct, and the final answer has been obtained accurately:\n",
       "\n",
       "Hence, the final answer is 12."
      ],
      "text/plain": [
       "<IPython.core.display.Latex object>"
      ]
     },
     "execution_count": 33,
     "metadata": {},
     "output_type": "execute_result"
    }
   ],
   "source": [
    "Latex(answer)"
   ]
  },
  {
   "cell_type": "code",
   "execution_count": 34,
   "id": "71b8a25c-7102-4519-b548-26c32f1f9e28",
   "metadata": {},
   "outputs": [
    {
     "data": {
      "text/plain": [
       "12.0"
      ]
     },
     "execution_count": 34,
     "metadata": {},
     "output_type": "execute_result"
    }
   ],
   "source": [
    "extract_numerical_answer(answer)"
   ]
  },
  {
   "cell_type": "markdown",
   "id": "dda16599-c518-4924-a606-094e05058dba",
   "metadata": {},
   "source": [
    "# Rag"
   ]
  },
  {
   "cell_type": "code",
   "execution_count": 35,
   "id": "5a822d8a-e69c-4320-8dac-35b524408a13",
   "metadata": {},
   "outputs": [],
   "source": [
    "def llm(prompt):\n",
    "    response = client.chat.completions.create(\n",
    "        model='gpt-4o-mini',\n",
    "        messages=[{\"role\": \"user\", \"content\": prompt}]\n",
    "    )\n",
    "    \n",
    "    return response.choices[0].message.content"
   ]
  },
  {
   "cell_type": "code",
   "execution_count": 40,
   "id": "d43ca038-7d81-4cb1-b2b3-9a1cd300d6bb",
   "metadata": {},
   "outputs": [],
   "source": [
    "def rag(query):\n",
    "    # Stage 1\n",
    "    prompt_stage_1 = build_prompt_stage_1(query)\n",
    "    response_stage_1 = llm(prompt_stage_1)\n",
    "    # Stage 2\n",
    "    prompt_stage_2 = build_prompt_stage_2(query, response_stage_1)\n",
    "    response_stage_2 = llm(prompt_stage_2)\n",
    "    # Extract answer\n",
    "    answer = extract_numerical_answer(response_stage_2)\n",
    "    return answer, response_stage_1, response_stage_2"
   ]
  },
  {
   "cell_type": "code",
   "execution_count": 41,
   "id": "83c86db0-7591-47d1-aa56-9f84c4da5e56",
   "metadata": {},
   "outputs": [
    {
     "data": {
      "text/latex": [
       "Find the value of the expression \\(4.8 \\cdot 2.5\\)."
      ],
      "text/plain": [
       "<IPython.core.display.Latex object>"
      ]
     },
     "execution_count": 41,
     "metadata": {},
     "output_type": "execute_result"
    }
   ],
   "source": [
    "Latex(query)"
   ]
  },
  {
   "cell_type": "code",
   "execution_count": 42,
   "id": "bf4277d1-edd7-46ee-8233-c8e03f227527",
   "metadata": {},
   "outputs": [],
   "source": [
    "answer, _, _ = rag(query)"
   ]
  },
  {
   "cell_type": "code",
   "execution_count": null,
   "id": "ec4c91d7-f971-4e8d-89d6-6cdf0135029b",
   "metadata": {},
   "outputs": [],
   "source": [
    "(17/5) / (34/3) + 1.3"
   ]
  },
  {
   "cell_type": "code",
   "execution_count": 43,
   "id": "526b32cc-0eb4-4fc2-9ed1-316df14258dd",
   "metadata": {},
   "outputs": [
    {
     "data": {
      "text/plain": [
       "12.0"
      ]
     },
     "execution_count": 43,
     "metadata": {},
     "output_type": "execute_result"
    }
   ],
   "source": [
    "answer"
   ]
  },
  {
   "cell_type": "code",
   "execution_count": 78,
   "id": "a81c9c37-fa14-41bf-aa97-249d929c3558",
   "metadata": {},
   "outputs": [],
   "source": [
    "train_result = []\n",
    "\n",
    "for _, row in tqdm(train.iterrows(), total=len(test)):\n",
    "        \n",
    "    query = row['problem_text']\n",
    "    answer, response_1, response_2 = rag(query)    \n",
    "    train_result.append({\n",
    "        'problem_id': row.name,\n",
    "        'stage_1': response_1,\n",
    "        'stage_2': response_2,\n",
    "        'predict': answer,\n",
    "        'answer': row[\"answer\"]\n",
    "    })"
   ]
  },
  {
   "cell_type": "code",
   "execution_count": 58,
   "id": "c70e84c4-80c2-47bc-b104-21e2a9277723",
   "metadata": {},
   "outputs": [],
   "source": [
    "train_result_df = pd.DataFrame(train_result)"
   ]
  },
  {
   "cell_type": "markdown",
   "id": "1a71201c-056b-4759-b905-126862e632f5",
   "metadata": {},
   "source": [
    "# Metrics"
   ]
  },
  {
   "cell_type": "code",
   "execution_count": 46,
   "id": "9d2784a8-df4e-4f7b-9661-9e9030d649ca",
   "metadata": {},
   "outputs": [],
   "source": [
    "from sklearn.metrics import accuracy_score"
   ]
  },
  {
   "cell_type": "code",
   "execution_count": 47,
   "id": "ab1f31c6-df91-426e-b810-cb950ddf8c38",
   "metadata": {},
   "outputs": [],
   "source": [
    "def fix_suffix(value):\n",
    "    if value.endswith('.0'):\n",
    "        return value[:-2]\n",
    "    else:\n",
    "        return value"
   ]
  },
  {
   "cell_type": "code",
   "execution_count": 81,
   "id": "69431393-1b1d-4dd1-9c61-bcabff0a5c38",
   "metadata": {},
   "outputs": [],
   "source": [
    "train_result_df[\"predict\"] = train_result_df[\"predict\"].astype(str).apply(fix_suffix)"
   ]
  },
  {
   "cell_type": "code",
   "execution_count": 82,
   "id": "edd4efe2-b062-41b6-bb8b-0d037eec0e02",
   "metadata": {},
   "outputs": [
    {
     "data": {
      "text/plain": [
       "0.65"
      ]
     },
     "execution_count": 82,
     "metadata": {},
     "output_type": "execute_result"
    }
   ],
   "source": [
    "accuracy_score(train[\"answer\"], train_result_df[\"predict\"])"
   ]
  },
  {
   "cell_type": "markdown",
   "id": "62c9cbc0-231b-4388-952a-2455ffa1ceb5",
   "metadata": {},
   "source": [
    "# Test"
   ]
  },
  {
   "cell_type": "code",
   "execution_count": 83,
   "id": "e53ac372-85b3-467d-9670-745bd0acd9f8",
   "metadata": {},
   "outputs": [
    {
     "name": "stderr",
     "output_type": "stream",
     "text": [
      "100%|██████████| 100/100 [20:15<00:00, 12.16s/it]\n"
     ]
    }
   ],
   "source": [
    "test_result = []\n",
    "\n",
    "for _, row in tqdm(test.iterrows(), total=len(test)):\n",
    "\n",
    "    query = row['problem_text']\n",
    "    answer, response_1, response_2 = rag(query)    \n",
    "    test_result.append({\n",
    "        'problem_id': row.name,\n",
    "        'stage_1': response_1,\n",
    "        'stage_2': response_2,\n",
    "        'predict': answer,\n",
    "    })"
   ]
  },
  {
   "cell_type": "code",
   "execution_count": 87,
   "id": "86dcc41f-792f-4283-8252-7d3db80f466e",
   "metadata": {},
   "outputs": [],
   "source": [
    "test_result_df = pd.DataFrame(test_result)"
   ]
  },
  {
   "cell_type": "code",
   "execution_count": 90,
   "id": "ef7827e3-828b-40e5-9ba0-876771f492b3",
   "metadata": {},
   "outputs": [
    {
     "data": {
      "text/html": [
       "<div>\n",
       "<style scoped>\n",
       "    .dataframe tbody tr th:only-of-type {\n",
       "        vertical-align: middle;\n",
       "    }\n",
       "\n",
       "    .dataframe tbody tr th {\n",
       "        vertical-align: top;\n",
       "    }\n",
       "\n",
       "    .dataframe thead th {\n",
       "        text-align: right;\n",
       "    }\n",
       "</style>\n",
       "<table border=\"1\" class=\"dataframe\">\n",
       "  <thead>\n",
       "    <tr style=\"text-align: right;\">\n",
       "      <th></th>\n",
       "      <th>problem_id</th>\n",
       "      <th>stage_1</th>\n",
       "      <th>stage_2</th>\n",
       "      <th>predict</th>\n",
       "    </tr>\n",
       "  </thead>\n",
       "  <tbody>\n",
       "    <tr>\n",
       "      <th>0</th>\n",
       "      <td>11919</td>\n",
       "      <td>Solution:\\nTo find the value of the expression...</td>\n",
       "      <td>The solution method provided for the multiplic...</td>\n",
       "      <td>12.0</td>\n",
       "    </tr>\n",
       "    <tr>\n",
       "      <th>1</th>\n",
       "      <td>8513</td>\n",
       "      <td>To convert the flight altitude from feet to me...</td>\n",
       "      <td>The original solution contains a mistake in th...</td>\n",
       "      <td>11285.0</td>\n",
       "    </tr>\n",
       "    <tr>\n",
       "      <th>2</th>\n",
       "      <td>7887</td>\n",
       "      <td>To find the length \\( a \\) of the rectangular ...</td>\n",
       "      <td>Let's analyze and verify the solution step by ...</td>\n",
       "      <td>4.0</td>\n",
       "    </tr>\n",
       "    <tr>\n",
       "      <th>3</th>\n",
       "      <td>5272</td>\n",
       "      <td>To solve the equation \\(\\left(\\frac{1}{8}\\righ...</td>\n",
       "      <td>The original solution appears to be correct, a...</td>\n",
       "      <td>6.0</td>\n",
       "    </tr>\n",
       "    <tr>\n",
       "      <th>4</th>\n",
       "      <td>8295</td>\n",
       "      <td>To determine the minimum number of two-person ...</td>\n",
       "      <td>The provided solution accurately follows the l...</td>\n",
       "      <td>13.0</td>\n",
       "    </tr>\n",
       "    <tr>\n",
       "      <th>...</th>\n",
       "      <td>...</td>\n",
       "      <td>...</td>\n",
       "      <td>...</td>\n",
       "      <td>...</td>\n",
       "    </tr>\n",
       "    <tr>\n",
       "      <th>95</th>\n",
       "      <td>3519</td>\n",
       "      <td>To find a set of tours such that the tourist v...</td>\n",
       "      <td>Let's re-check the analysis and calculations f...</td>\n",
       "      <td>314.0</td>\n",
       "    </tr>\n",
       "    <tr>\n",
       "      <th>96</th>\n",
       "      <td>7934</td>\n",
       "      <td>To determine the length of side \\( b \\) of the...</td>\n",
       "      <td>Let's verify the solution and calculations ste...</td>\n",
       "      <td>12.0</td>\n",
       "    </tr>\n",
       "    <tr>\n",
       "      <th>97</th>\n",
       "      <td>9390</td>\n",
       "      <td>To determine the cost of the cheapest purchase...</td>\n",
       "      <td>The provided solution seems to be correctly ca...</td>\n",
       "      <td>217000.0</td>\n",
       "    </tr>\n",
       "    <tr>\n",
       "      <th>98</th>\n",
       "      <td>7137</td>\n",
       "      <td>To find the percentage decrease in the number ...</td>\n",
       "      <td>The original solution correctly identify the r...</td>\n",
       "      <td>22.0</td>\n",
       "    </tr>\n",
       "    <tr>\n",
       "      <th>99</th>\n",
       "      <td>5914</td>\n",
       "      <td>To solve the expression \\(\\dfrac{2.4\\cdot 10^2...</td>\n",
       "      <td>Let's analyze the provided solution step by st...</td>\n",
       "      <td>300.0</td>\n",
       "    </tr>\n",
       "  </tbody>\n",
       "</table>\n",
       "<p>100 rows × 4 columns</p>\n",
       "</div>"
      ],
      "text/plain": [
       "    problem_id                                            stage_1  \\\n",
       "0        11919  Solution:\\nTo find the value of the expression...   \n",
       "1         8513  To convert the flight altitude from feet to me...   \n",
       "2         7887  To find the length \\( a \\) of the rectangular ...   \n",
       "3         5272  To solve the equation \\(\\left(\\frac{1}{8}\\righ...   \n",
       "4         8295  To determine the minimum number of two-person ...   \n",
       "..         ...                                                ...   \n",
       "95        3519  To find a set of tours such that the tourist v...   \n",
       "96        7934  To determine the length of side \\( b \\) of the...   \n",
       "97        9390  To determine the cost of the cheapest purchase...   \n",
       "98        7137  To find the percentage decrease in the number ...   \n",
       "99        5914  To solve the expression \\(\\dfrac{2.4\\cdot 10^2...   \n",
       "\n",
       "                                              stage_2   predict  \n",
       "0   The solution method provided for the multiplic...      12.0  \n",
       "1   The original solution contains a mistake in th...   11285.0  \n",
       "2   Let's analyze and verify the solution step by ...       4.0  \n",
       "3   The original solution appears to be correct, a...       6.0  \n",
       "4   The provided solution accurately follows the l...      13.0  \n",
       "..                                                ...       ...  \n",
       "95  Let's re-check the analysis and calculations f...     314.0  \n",
       "96  Let's verify the solution and calculations ste...      12.0  \n",
       "97  The provided solution seems to be correctly ca...  217000.0  \n",
       "98  The original solution correctly identify the r...      22.0  \n",
       "99  Let's analyze the provided solution step by st...     300.0  \n",
       "\n",
       "[100 rows x 4 columns]"
      ]
     },
     "execution_count": 90,
     "metadata": {},
     "output_type": "execute_result"
    }
   ],
   "source": [
    "test_result_df"
   ]
  },
  {
   "cell_type": "code",
   "execution_count": 91,
   "id": "906d2775-36c8-4df1-9e66-962bddaa3ab8",
   "metadata": {},
   "outputs": [],
   "source": [
    "test_result_df[\"predict\"] = test_result_df[\"predict\"].astype(str).apply(fix_suffix)"
   ]
  },
  {
   "cell_type": "code",
   "execution_count": 93,
   "id": "7f33e82d-9af8-47e9-aa87-1517e6c83ec0",
   "metadata": {},
   "outputs": [],
   "source": [
    "submission = test_result_df.rename(columns={\"predict\": \"answer\"})[\"answer\"].reset_index()"
   ]
  },
  {
   "cell_type": "code",
   "execution_count": 98,
   "id": "871d9dac-afe8-42f0-9de7-bcdb4905c627",
   "metadata": {},
   "outputs": [],
   "source": [
    "submission[\"index\"] = test.index"
   ]
  },
  {
   "cell_type": "code",
   "execution_count": 102,
   "id": "a8334565-23ef-4ffc-9a02-ec029e3dc390",
   "metadata": {},
   "outputs": [],
   "source": [
    "submission = submission.rename(columns={\"index\": \"problem_id\"})"
   ]
  },
  {
   "cell_type": "code",
   "execution_count": 104,
   "id": "91818bcf-7325-493f-abe6-7f89544243d4",
   "metadata": {},
   "outputs": [],
   "source": [
    "submission.to_csv(\"result/double-check.csv\", index=False)"
   ]
  },
  {
   "cell_type": "code",
   "execution_count": 103,
   "id": "bb693e34-2aa0-49f0-a2f2-c5c2dc802b27",
   "metadata": {},
   "outputs": [
    {
     "data": {
      "text/html": [
       "<div>\n",
       "<style scoped>\n",
       "    .dataframe tbody tr th:only-of-type {\n",
       "        vertical-align: middle;\n",
       "    }\n",
       "\n",
       "    .dataframe tbody tr th {\n",
       "        vertical-align: top;\n",
       "    }\n",
       "\n",
       "    .dataframe thead th {\n",
       "        text-align: right;\n",
       "    }\n",
       "</style>\n",
       "<table border=\"1\" class=\"dataframe\">\n",
       "  <thead>\n",
       "    <tr style=\"text-align: right;\">\n",
       "      <th></th>\n",
       "      <th>problem_id</th>\n",
       "      <th>answer</th>\n",
       "    </tr>\n",
       "  </thead>\n",
       "  <tbody>\n",
       "    <tr>\n",
       "      <th>0</th>\n",
       "      <td>11919</td>\n",
       "      <td>12</td>\n",
       "    </tr>\n",
       "    <tr>\n",
       "      <th>1</th>\n",
       "      <td>8513</td>\n",
       "      <td>11285</td>\n",
       "    </tr>\n",
       "    <tr>\n",
       "      <th>2</th>\n",
       "      <td>7887</td>\n",
       "      <td>4</td>\n",
       "    </tr>\n",
       "    <tr>\n",
       "      <th>3</th>\n",
       "      <td>5272</td>\n",
       "      <td>6</td>\n",
       "    </tr>\n",
       "    <tr>\n",
       "      <th>4</th>\n",
       "      <td>8295</td>\n",
       "      <td>13</td>\n",
       "    </tr>\n",
       "    <tr>\n",
       "      <th>...</th>\n",
       "      <td>...</td>\n",
       "      <td>...</td>\n",
       "    </tr>\n",
       "    <tr>\n",
       "      <th>95</th>\n",
       "      <td>3519</td>\n",
       "      <td>314</td>\n",
       "    </tr>\n",
       "    <tr>\n",
       "      <th>96</th>\n",
       "      <td>7934</td>\n",
       "      <td>12</td>\n",
       "    </tr>\n",
       "    <tr>\n",
       "      <th>97</th>\n",
       "      <td>9390</td>\n",
       "      <td>217000</td>\n",
       "    </tr>\n",
       "    <tr>\n",
       "      <th>98</th>\n",
       "      <td>7137</td>\n",
       "      <td>22</td>\n",
       "    </tr>\n",
       "    <tr>\n",
       "      <th>99</th>\n",
       "      <td>5914</td>\n",
       "      <td>300</td>\n",
       "    </tr>\n",
       "  </tbody>\n",
       "</table>\n",
       "<p>100 rows × 2 columns</p>\n",
       "</div>"
      ],
      "text/plain": [
       "    problem_id  answer\n",
       "0        11919      12\n",
       "1         8513   11285\n",
       "2         7887       4\n",
       "3         5272       6\n",
       "4         8295      13\n",
       "..         ...     ...\n",
       "95        3519     314\n",
       "96        7934      12\n",
       "97        9390  217000\n",
       "98        7137      22\n",
       "99        5914     300\n",
       "\n",
       "[100 rows x 2 columns]"
      ]
     },
     "execution_count": 103,
     "metadata": {},
     "output_type": "execute_result"
    }
   ],
   "source": [
    "submission"
   ]
  },
  {
   "cell_type": "code",
   "execution_count": null,
   "id": "c26fb175-4a83-4be1-838a-c24122c455f9",
   "metadata": {},
   "outputs": [],
   "source": []
  }
 ],
 "metadata": {
  "kernelspec": {
   "display_name": "Python 3 (ipykernel)",
   "language": "python",
   "name": "python3"
  },
  "language_info": {
   "codemirror_mode": {
    "name": "ipython",
    "version": 3
   },
   "file_extension": ".py",
   "mimetype": "text/x-python",
   "name": "python",
   "nbconvert_exporter": "python",
   "pygments_lexer": "ipython3",
   "version": "3.12.4"
  }
 },
 "nbformat": 4,
 "nbformat_minor": 5
}
